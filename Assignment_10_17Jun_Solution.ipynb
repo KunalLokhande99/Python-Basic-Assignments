{
 "cells": [
  {
   "cell_type": "raw",
   "id": "2d6360a8-d444-4762-b49c-f2e7681c19be",
   "metadata": {},
   "source": [
    "# Assignment_10_17Jun_Solution"
   ]
  },
  {
   "cell_type": "raw",
   "id": "1cdf03ef-9b6f-4bfa-ba61-7fb127c7d499",
   "metadata": {},
   "source": [
    "\n",
    "1. What is the role of try and exception block?\n",
    "Ans.\n",
    "*try\n",
    "    - The try block is used to wrap the code that might potentially raise an exception.\n",
    "    - The try block is like a safety net. You put the code that might cause problems inside it.\n",
    "    - It lets Python know, \"Hey, i found errors here!\"\n",
    "*except \n",
    "    - The except block is used to handle specific types of exceptions that may occur within the try block.\n",
    "    - The except block is like a safety response. It's like what if something goes wrong.\n",
    "    - It tells Python, \"If something bad happens, do this.\"block\n"
   ]
  },
  {
   "cell_type": "raw",
   "id": "e63d95fa-6ddf-4d6c-aee1-e9ba42dbc147",
   "metadata": {},
   "source": [
    "\n",
    "2. What is the syntax for a basic try-except block?\n",
    "Ans."
   ]
  },
  {
   "cell_type": "code",
   "execution_count": 6,
   "id": "16005ff6-eef9-4927-9d90-ce3d5b6c3449",
   "metadata": {},
   "outputs": [
    {
     "name": "stdout",
     "output_type": "stream",
     "text": [
      "Error\n"
     ]
    }
   ],
   "source": [
    "try:\n",
    "    calculate = 1 / 0\n",
    "except:\n",
    "    print('Error')"
   ]
  },
  {
   "cell_type": "raw",
   "id": "aa334e42-4402-40c4-975c-be23327b1e95",
   "metadata": {},
   "source": [
    "\n",
    "3. What happens if an exception occurs inside a try block and there is no matching except block?\n",
    "Ans.\n",
    "    - An error occurs in the try block, resulting in an exception being raised.\n",
    "    - Then python Search for Matching except block to find one that matches the exception type.\n",
    "    - If there is matching except block the code within that block executes and allows the program to handle error.\n",
    "    - If no matching except block is found the exception continues to propagate upward through the call stack.\n",
    "    - Here the program will be terminated by the python.\n",
    "    - finally Python displays traceback showing error type, message, and sequence of code lines where the error occurred."
   ]
  },
  {
   "cell_type": "code",
   "execution_count": 4,
   "id": "b56dc17d-ea8f-40eb-a706-18c222498b24",
   "metadata": {},
   "outputs": [
    {
     "ename": "ZeroDivisionError",
     "evalue": "division by zero",
     "output_type": "error",
     "traceback": [
      "\u001b[1;31m---------------------------------------------------------------------------\u001b[0m",
      "\u001b[1;31mZeroDivisionError\u001b[0m                         Traceback (most recent call last)",
      "Cell \u001b[1;32mIn[4], line 2\u001b[0m\n\u001b[0;32m      1\u001b[0m \u001b[38;5;28;01mtry\u001b[39;00m:\n\u001b[1;32m----> 2\u001b[0m     calculate \u001b[38;5;241m=\u001b[39m \u001b[38;5;241m1\u001b[39m \u001b[38;5;241m/\u001b[39m \u001b[38;5;241m0\u001b[39m\n\u001b[0;32m      3\u001b[0m \u001b[38;5;28;01mexcept\u001b[39;00m \u001b[38;5;167;01mValueError\u001b[39;00m:\n\u001b[0;32m      4\u001b[0m     \u001b[38;5;28mprint\u001b[39m(\u001b[38;5;124m\"\u001b[39m\u001b[38;5;124mCaught a ValueError.\u001b[39m\u001b[38;5;124m\"\u001b[39m)\n",
      "\u001b[1;31mZeroDivisionError\u001b[0m: division by zero"
     ]
    }
   ],
   "source": [
    "try:\n",
    "    calculate = 1 / 0\n",
    "except ValueError:                        # code with wrong except block\n",
    "    print(\"Caught a ValueError.\")\n",
    "print('Error Found')"
   ]
  },
  {
   "cell_type": "code",
   "execution_count": 5,
   "id": "3b9c5f92-099a-44c1-80c3-6ef21aae4929",
   "metadata": {},
   "outputs": [
    {
     "name": "stdout",
     "output_type": "stream",
     "text": [
      "Division by zero is Not allowed\n",
      "Error Found\n"
     ]
    }
   ],
   "source": [
    "try:\n",
    "    calculate = 1 / 0\n",
    "except ZeroDivisionError:                     # code with correct except block\n",
    "    print('Division by zero is Not allowed')\n",
    "print('Error Found')"
   ]
  },
  {
   "cell_type": "raw",
   "id": "d88e0752-0019-4b8f-a761-e8beb7a3b5c8",
   "metadata": {},
   "source": [
    "\n",
    "4. What is the difference between using a bare except block and specifying a specific exception type?\n",
    "Ans.\n",
    "*Bare except Block\n",
    "    - Catches every type of exceptions that occur within the try block.\n",
    "    -  It's hard to know what went wrong since all errors are caught.\n",
    "*specific exception\n",
    "    - Catches ony specific exceptions that occur within the try block.\n",
    "    - Here we are aware about which error we are dealing with.\n"
   ]
  },
  {
   "cell_type": "raw",
   "id": "af3ab723-bd00-40b0-bf8e-e31d1fe026d9",
   "metadata": {},
   "source": [
    "\n",
    "5. Can you have nested try-except blocks in Python? If yes, then give an example.\n",
    "Ans.\n",
    "    - Yes, we can have nested try-except blocks in Python.\n",
    "    - This allows to handle exceptions at different levels. "
   ]
  },
  {
   "cell_type": "code",
   "execution_count": 7,
   "id": "0a2c4ace-cc68-4082-8069-cc6e3978afdd",
   "metadata": {},
   "outputs": [
    {
     "name": "stdout",
     "output_type": "stream",
     "text": [
      "found ZeroDivisionError in block1\n",
      "found ValueError in block2\n",
      "error found\n"
     ]
    }
   ],
   "source": [
    "try:\n",
    "    try:\n",
    "        x = 1 / 0\n",
    "    except ZeroDivisionError:\n",
    "        print(\"found ZeroDivisionError in block1\")\n",
    "    y = int(\"abc\")  \n",
    "except ValueError:\n",
    "    print(\"found ValueError in block2\")\n",
    "print(\"error found\")"
   ]
  },
  {
   "cell_type": "raw",
   "id": "5feab141-8ac0-42f1-8089-aeb4ef675b75",
   "metadata": {},
   "source": [
    "\n",
    "6. Can we use multiple exception blocks, if yes then give an example.\n",
    "Ans.\n",
    "    - Yes, we can use multiple exception blocks in python.\n",
    "    - This is useful when we expect multiple errors and want to address each one."
   ]
  },
  {
   "cell_type": "code",
   "execution_count": 9,
   "id": "68e7e98a-cfe1-4b94-834e-e941f54cc2e7",
   "metadata": {},
   "outputs": [
    {
     "name": "stdout",
     "output_type": "stream",
     "text": [
      "Division by zero is Not allowed\n",
      "error found\n"
     ]
    }
   ],
   "source": [
    "try:\n",
    "    x = 1 / 0\n",
    "except ZeroDivisionError:\n",
    "    print(\"Division by zero is Not allowed\")\n",
    "except ValueError:\n",
    "    print(\"Wrong input is Not allowed\")\n",
    "except Exception as e:\n",
    "    print(f\"Unexpected error occurred: {e}\")\n",
    "print(\"error found\")"
   ]
  },
  {
   "cell_type": "raw",
   "id": "54102eb3-3973-466f-8330-1d72dc48252a",
   "metadata": {},
   "source": [
    "\n",
    "7. Write the reason due to which following errors are raised:\n",
    "a. EOFError\n",
    "b. FloatingPointError\n",
    "c. IndexError\n",
    "d. MemoryError\n",
    "e. OverflowError\n",
    "f. TabError\n",
    "g. ValueError\n",
    "Ans.\n",
    "*EOFError\n",
    "    - Raised when trying to read past the end of a file and there's no more data to read.\n",
    "*FloatingPointError\n",
    "    - Raised when there is a problem with a floating-point operation.\n",
    "*IndexError\n",
    "    - Raised when try to access an index in list, tuple, or similar that doesn't exist.\n",
    "*MemoryError\n",
    "    - Raised when system runs out of memory, because the code tried to use more memory than available.\n",
    "*OverflowError\n",
    "    - Raised when arithmetic operation produces result which is bigger than allowed range of data type being used.\n",
    "*TabError\n",
    "    - Raised when there's an inconsistency with tabs and spaces in indentation.\n",
    "*ValueError\n",
    "    - Raised when the wrong value with other datatype passed to a function.\n"
   ]
  },
  {
   "cell_type": "raw",
   "id": "581cfc41-09e0-457a-bc9c-1f45330b5c7f",
   "metadata": {},
   "source": [
    "\n",
    "8. Write code for the following given scenario and add try-exception block to it.\n",
    "a. Program to divide two numbers\n",
    "b. Program to convert a string to an integer\n",
    "c. Program to access an element in a list\n",
    "d. Program to handle a specific exception\n",
    "e. Program to handle any exception\n",
    "Ans."
   ]
  },
  {
   "cell_type": "code",
   "execution_count": 31,
   "id": "90959eed-24da-44a9-9911-8e578d42d14d",
   "metadata": {},
   "outputs": [
    {
     "name": "stdout",
     "output_type": "stream",
     "text": [
      "division of 6 and 2 is : 3.0\n"
     ]
    }
   ],
   "source": [
    "# Program to divide two numbers\n",
    "def division(a, b):\n",
    "    try:\n",
    "        result = a / b\n",
    "        print(f\"division of {a} and {b} is : {result}\")\n",
    "    except ZeroDivisionError:\n",
    "        print(\"Division by zero is Not allowed\")\n",
    "division(6,2)"
   ]
  },
  {
   "cell_type": "code",
   "execution_count": 32,
   "id": "2b606b43-93ea-40ee-92ae-6a0c1fd474a4",
   "metadata": {},
   "outputs": [
    {
     "name": "stdout",
     "output_type": "stream",
     "text": [
      "Krish is not a valid integer.\n"
     ]
    }
   ],
   "source": [
    "# Program to convert a string to an integer\n",
    "def str_to_int(string):\n",
    "    try:\n",
    "        int_string = int(string)\n",
    "        print(f\"your converted string is {int_string}\")\n",
    "    except ValueError:\n",
    "        print(name, \"is not a valid integer.\")\n",
    "str_to_int(\"Krish\")"
   ]
  },
  {
   "cell_type": "code",
   "execution_count": 34,
   "id": "5e4757d5-e4d7-4177-8873-bef4110aa9bf",
   "metadata": {},
   "outputs": [
    {
     "name": "stdout",
     "output_type": "stream",
     "text": [
      "The element at index 5 is 6\n"
     ]
    }
   ],
   "source": [
    "# Program to access an element in a list\n",
    "def access_list_element(list1, index):\n",
    "    try:\n",
    "        element = list1[index]\n",
    "        print(f\"The element at index {index} is {element}\")\n",
    "    except IndexError:\n",
    "        print(f\"Index {index} is out of range.\")\n",
    "access_list_element([1,2,3,4,5,6],5)"
   ]
  },
  {
   "cell_type": "code",
   "execution_count": 35,
   "id": "1636dc68-25ad-4686-9726-56830e7cfd31",
   "metadata": {},
   "outputs": [
    {
     "name": "stdout",
     "output_type": "stream",
     "text": [
      "Division by zero is Not allowed\n"
     ]
    }
   ],
   "source": [
    "# Program to handle a specific exception\n",
    "try:\n",
    "    calculate = 1 / 0\n",
    "except ZeroDivisionError:\n",
    "    print('Division by zero is Not allowed')"
   ]
  },
  {
   "cell_type": "code",
   "execution_count": 36,
   "id": "8ff3ea3b-67a7-467b-8d58-d4617acc45ec",
   "metadata": {},
   "outputs": [
    {
     "name": "stdout",
     "output_type": "stream",
     "text": [
      "Error\n"
     ]
    }
   ],
   "source": [
    "# Program to handle any exception\n",
    "try:\n",
    "    calculate = 1 / 0\n",
    "except:\n",
    "    print('Error')"
   ]
  },
  {
   "cell_type": "raw",
   "id": "f6c064b7-95ca-4cbc-b4aa-be70efda68af",
   "metadata": {},
   "source": []
  }
 ],
 "metadata": {
  "kernelspec": {
   "display_name": "Python 3 (ipykernel)",
   "language": "python",
   "name": "python3"
  },
  "language_info": {
   "codemirror_mode": {
    "name": "ipython",
    "version": 3
   },
   "file_extension": ".py",
   "mimetype": "text/x-python",
   "name": "python",
   "nbconvert_exporter": "python",
   "pygments_lexer": "ipython3",
   "version": "3.11.7"
  }
 },
 "nbformat": 4,
 "nbformat_minor": 5
}
