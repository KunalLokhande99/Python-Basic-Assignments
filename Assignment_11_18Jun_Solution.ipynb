{
 "cells": [
  {
   "cell_type": "raw",
   "id": "d938cee4-ed3c-443a-ba54-2601a249ae08",
   "metadata": {},
   "source": [
    "# Assignment_11_18Jun_Solution"
   ]
  },
  {
   "cell_type": "raw",
   "id": "5559a36a-074a-42dd-91f6-369d3042d058",
   "metadata": {},
   "source": [
    "1. What is the role of the 'else' block in a try-except statement? Provide an example\n",
    "scenario where it would be useful.\n",
    "Ans.\n",
    "    - else block in try-except statement is optional and used to execute code if no exceptions are raised within the try block.\n",
    "    - If an exception occurs then code in the except block is executed, and the code in the else block is skipped.\n",
    "    - If no exception occurs then only code in the else block is executed."
   ]
  },
  {
   "cell_type": "code",
   "execution_count": 1,
   "id": "11d84d9a-0b4d-462f-9092-ef67b7be2d4a",
   "metadata": {},
   "outputs": [
    {
     "name": "stdout",
     "output_type": "stream",
     "text": [
      "Division is: 3.0\n"
     ]
    }
   ],
   "source": [
    "try:\n",
    "    division = 6 / 2\n",
    "except ZeroDivisionError:\n",
    "    print('Division by zero is Not allowed')\n",
    "else:\n",
    "    print(\"Division is:\", division)"
   ]
  },
  {
   "cell_type": "raw",
   "id": "5ff5ed12-cfe2-409a-a669-cd45933b0ae0",
   "metadata": {},
   "source": [
    "\n",
    "2. Can a try-except block be nested inside another try-except block? Explain with an example.\n",
    "Ans. \n",
    "    - Yes, we can have nested try-except blocks in Python.\n",
    "    - This allows to handle exceptions at different levels. "
   ]
  },
  {
   "cell_type": "code",
   "execution_count": 2,
   "id": "4a27fc70-d21d-46fe-8f3a-dec8cdabfcdd",
   "metadata": {},
   "outputs": [
    {
     "name": "stdout",
     "output_type": "stream",
     "text": [
      "found ZeroDivisionError in block1\n",
      "found ValueError in block2\n"
     ]
    }
   ],
   "source": [
    "try:\n",
    "    try:\n",
    "        x = 1 / 0\n",
    "    except ZeroDivisionError:\n",
    "        print(\"found ZeroDivisionError in block1\")\n",
    "    y = int(\"abc\")  \n",
    "except ValueError:\n",
    "    print(\"found ValueError in block2\")"
   ]
  },
  {
   "cell_type": "raw",
   "id": "3d58f3c6-490a-4d10-94d9-40c7e291b952",
   "metadata": {},
   "source": [
    "\n",
    "3. How can you create a custom exception class in Python? Provide an example that demonstrates its usage.\n",
    "Ans.\n",
    "    - we can create custom exception class by subclassing the built-in Exception class or one of its derived classes.\n",
    "    - To create a custom exception class, we have to define a new class that inherits from Exception"
   ]
  },
  {
   "cell_type": "code",
   "execution_count": 7,
   "id": "386466a2-c92a-4b6e-8d94-cef6ae285ff4",
   "metadata": {},
   "outputs": [
    {
     "name": "stdout",
     "output_type": "stream",
     "text": [
      "Error: only positive numbers are valid.\n"
     ]
    }
   ],
   "source": [
    "class AdditionError(Exception):\n",
    "    def __init__(self, no):\n",
    "        self.no = no\n",
    "\n",
    "def add(a, b):\n",
    "    if a < 0 or b < 0:\n",
    "        raise AdditionError(\"only positive numbers are valid.\")\n",
    "    return a + b\n",
    "\n",
    "try:\n",
    "    result = add(-36, 6)\n",
    "except AdditionError as e:\n",
    "    print(f\"Error: {e}\")\n",
    "else:\n",
    "    print(f\"addition is : {result}\")"
   ]
  },
  {
   "cell_type": "raw",
   "id": "7e295852-1c0d-4e97-b479-e9326cfd7b32",
   "metadata": {},
   "source": [
    "\n",
    "4. What are some common exceptions that are built-in to Python?\n",
    "Ans.\n",
    "    - SyntaxError: Raised when the code contains syntax error.\n",
    "    - TypeError: Raised when function is applied to object of inappropriate type.\n",
    "    - ValueError: Raised when function receives an argument with an inappropriate value.\n",
    "    - IndexError: Raised when index is out of range for a sequence.\n",
    "    - KeyError: Raised when a dictionary key does not exist.\n",
    "    - NameError: Raised when  variable is referenced before it is defined.\n",
    "    - ZeroDivisionError: Raised when attempting to divide by zero.\n",
    "    - FileNotFoundError: Raised when a file or directory cannot be found.\n",
    "    - OSError: Raised for system-related errors like file or OS issues.\n",
    "    - IOError: Raised when an I/O operation like file reading or writing.\n",
    "    - AttributeError: Raised when object does not have requested attribute.\n",
    "    - ImportError: Raised when import statement fails to find the specified module.\n",
    "    - ModuleNotFoundError: Subclass of ImportError if specific module-not-found.\n",
    "    - MemoryError: Raised when an operation runs out of memory.\n",
    "    - RuntimeError: Raised when error doesn't fit any other category of exceptions.\n",
    "    - RecursionError: Raised when the recursion limit is exceeded.\n",
    "    - OverflowError: Raised when a mathematical operation results in an overflow.\n",
    "    - AssertionError: Raised when an assert statement fails.\n",
    "    - StopIteration: Raised by iterators when no more items are available.\n",
    "    - KeyboardInterrupt: Raised when user stops program execution with keyboard command.\n"
   ]
  },
  {
   "cell_type": "raw",
   "id": "7f7b7d4f-fbe8-435b-b193-582d7b654927",
   "metadata": {},
   "source": [
    "\n",
    "5. What is logging in Python, and why is it important in software development?\n",
    "Ans.\n",
    "    - Logging Helps in finding out and fixing errors by tracking program flow.\n",
    "    - Allows to keep an eye on running program, used for long-running or production applications.\n",
    "    - Records events and actions which is important for security and meets regulatory standards.\n",
    "    - Provides data to measure and improve performance like response times and resource usage.\n",
    "    - Makes it easier for team members to discuss issues and share information for debugging.\n",
    "    - Logs can serve as documentation or be used to generate reports on system behavior.\n"
   ]
  },
  {
   "cell_type": "code",
   "execution_count": null,
   "id": "d6790b08-b8f4-4096-acdf-bb77944a76c4",
   "metadata": {},
   "outputs": [],
   "source": [
    "6. Explain the purpose of log levels in Python logging and provide examples of when\n",
    "each log level would be appropriate.\n",
    "Ans.\n",
    "*DEBUG\n",
    "    - For detailed diagnostic information during development or debugging, provides the most detailed logging.\n",
    "*INFO\n",
    "    - For general information on program execution, less detailed than DEBUG.\n",
    "*WARNING\n",
    "    - For problematic situations that aren't errors but need attention, something unexpected but not necessarily critical.\n",
    "*ERROR\n",
    "    - For errors or exceptions that affects normal functioning of program, something went wrong that needs to be fixed.\n",
    "*CRITICAL\n",
    "    - For severe errors that require immediate attention otherwise cause the program to stop working."
   ]
  },
  {
   "cell_type": "raw",
   "id": "5d5fb0bf-ca45-4789-8c30-fe84b8aecc9d",
   "metadata": {},
   "source": [
    "# differnt logging level for different situations...\n",
    "import logging\n",
    "logging.basicConfig(level=logging.DEBUG)\n",
    "\n",
    "# DEBUG \n",
    "logging.debug(\"Checking the user input: %s\", user_input)\n",
    "# INFO \n",
    "logging.info(\"Service started successfully.\")\n",
    "# WARNING \n",
    "logging.warning(\"Missing optional configuration: %s\", config_path)\n",
    "# ERROR \n",
    "try:\n",
    "    result = 1 / 0\n",
    "except Exception as e:\n",
    "    logging.error(\"An error occurred: %s\", str(e))\n",
    "# CRITICAL \n",
    "logging.critical(\"Database connection failed. System shutting down.\")\n"
   ]
  },
  {
   "cell_type": "code",
   "execution_count": null,
   "id": "f23dcd9d-0761-444e-a5ea-61238636e755",
   "metadata": {},
   "outputs": [],
   "source": [
    "\n",
    "7. What are log formatters in Python logging, and how can you customise the log\n",
    "message format using formatters?\n",
    "Ans.\n",
    "    - log formatter defines how log messages are displayed. \n",
    "    - It specifies what information to include and how to format it.\n",
    "        \n",
    "Common components used to customise log message using formatters:\n",
    "    - %asctime: Timestamp of the log message.\n",
    "    - %levelname: Log level (like DEBUG or INFO).\n",
    "    - %name: Logger name.\n",
    "    - %message: The main log message.\n",
    "    - %filename: The source file name.\n",
    "    - %funcName: The function name.\n",
    "    - %lineno: The line number where the log originated.\n",
    "    "
   ]
  },
  {
   "cell_type": "raw",
   "id": "83e9606e-c372-47eb-adff-bcb462828349",
   "metadata": {},
   "source": [
    "\n",
    "8. How can you set up logging to capture log messages from multiple modules or\n",
    "classes in a Python application?\n",
    "Ans.\n",
    "    - Set up the main logger to capture messages from the whole application.\n",
    "    - Decide where to send the logs like console or file.\n",
    "    - Set the level of logs to record like DEBUG, INFO, WARNING.\n",
    "    - In each module create a logger with unique name.\n",
    "    - Usually this name is same as the module's name.\n",
    "    - These named loggers will use root logger's settings like format and level.\n",
    "    - Use the named loggers to create log messages at different levels.\n"
   ]
  },
  {
   "cell_type": "raw",
   "id": "1283d6e4-d079-482b-a774-562ed7184dd0",
   "metadata": {},
   "source": [
    "\n",
    "9. What is the difference between the logging and print statements in Python? When\n",
    "should you use logging over print statements in a real-world application?\n",
    "Ans.\n",
    "*Logging\n",
    "    - Designed for tracking events, errors, and other significant information in a more controlled manner. \n",
    "    - Suitable for both development and production environments.\n",
    "    - Highly flexible. \n",
    "    - You can direct log messages to various destinations, customize formats, and use different log levels to categorize messages.\n",
    "    - Offers full control over output, \n",
    "    - allows to adjust log levels, apply formatters, and use handlers to route log messages to different locations.\n",
    "    - Built to handle complex applications and large-scale systems.\n",
    "*Print Statements\n",
    "    - Used for simple output to the console or terminal. \n",
    "    - Suitable for quick feedback or debugging during development.\n",
    "    - Limited use. \n",
    "    - It prints directly to the standard output and cannot be easily formatted.\n",
    "    - Offers minimal control over message formatting, output location, or severity levels.\n",
    "    - Not designed for large-scale applications or production environments\n"
   ]
  },
  {
   "cell_type": "raw",
   "id": "997c1b5e-fabc-4420-b626-707a43e44182",
   "metadata": {},
   "source": [
    "\n",
    "10. Write a Python program that logs a message to a file named \"app.log\" with the\n",
    "following requirements:\n",
    "● The log message should be \"Hello, World!\"\n",
    "● The log level should be set to \"INFO.\"\n",
    "Ans."
   ]
  },
  {
   "cell_type": "code",
   "execution_count": 12,
   "id": "a6865da3-e311-4038-a53c-c7860c70aa6b",
   "metadata": {},
   "outputs": [
    {
     "name": "stderr",
     "output_type": "stream",
     "text": [
      "INFO:root:This is Krish Naiks's log!\n"
     ]
    }
   ],
   "source": [
    "import logging\n",
    "logging.basicConfig(\n",
    "                    filename='iNeuron.log', \n",
    "                    level=logging.INFO, \n",
    "                    format='%(asctime)s - %(levelname)s - %(message)s')\n",
    "logging.info(\"This is Krish Naiks's log!\")"
   ]
  },
  {
   "cell_type": "raw",
   "id": "e1aab4f7-b82f-4671-91f3-206fa13bf740",
   "metadata": {},
   "source": [
    "\n",
    "11. Create a Python program that logs an error message to the console and a file named\n",
    "\"errors.log\" if an exception occurs during the program's execution. The error\n",
    "message should include the exception type and a timestamp\n",
    "Ans."
   ]
  },
  {
   "cell_type": "code",
   "execution_count": 13,
   "id": "9cdd688c-5951-439d-ae51-d03332e5e87e",
   "metadata": {},
   "outputs": [
    {
     "name": "stdout",
     "output_type": "stream",
     "text": [
      "2024-04-25 16:19:54,577 - ERROR - Error occurred: division by zero\n"
     ]
    },
    {
     "name": "stderr",
     "output_type": "stream",
     "text": [
      "ERROR:error_logger:Error occurred: division by zero\n"
     ]
    }
   ],
   "source": [
    "import logging\n",
    "import sys\n",
    "\n",
    "logger = logging.getLogger(\"error_logger\")\n",
    "logger.setLevel(logging.ERROR)\n",
    "\n",
    "console_handler = logging.StreamHandler(sys.stdout)\n",
    "file_handler = logging.FileHandler(\"errors.log\")\n",
    "\n",
    "formatter = logging.Formatter(\"%(asctime)s - %(levelname)s - %(message)s\")\n",
    "\n",
    "console_handler.setFormatter(formatter)\n",
    "file_handler.setFormatter(formatter)\n",
    "\n",
    "logger.addHandler(console_handler)\n",
    "logger.addHandler(file_handler)\n",
    "\n",
    "try:\n",
    "    1 / 0\n",
    "except Exception as e:\n",
    "    logger.error(\"Error occurred: %s\", str(e))\n"
   ]
  },
  {
   "cell_type": "raw",
   "id": "9e8bfc75-c5e0-457b-ae9e-f5fc4f8e362c",
   "metadata": {},
   "source": []
  }
 ],
 "metadata": {
  "kernelspec": {
   "display_name": "Python 3 (ipykernel)",
   "language": "python",
   "name": "python3"
  },
  "language_info": {
   "codemirror_mode": {
    "name": "ipython",
    "version": 3
   },
   "file_extension": ".py",
   "mimetype": "text/x-python",
   "name": "python",
   "nbconvert_exporter": "python",
   "pygments_lexer": "ipython3",
   "version": "3.11.7"
  }
 },
 "nbformat": 4,
 "nbformat_minor": 5
}
