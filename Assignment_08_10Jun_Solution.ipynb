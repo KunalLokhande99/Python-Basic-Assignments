{
 "cells": [
  {
   "cell_type": "raw",
   "id": "9cabd26b-153c-487b-bb06-159519735a33",
   "metadata": {},
   "source": [
    "# Assignment_08_10Jun_Solution"
   ]
  },
  {
   "cell_type": "raw",
   "id": "7031e2ca-a063-48f1-973a-e900c1c9d0a4",
   "metadata": {},
   "source": [
    "1. In Python, what is the difference between a built-in function and a user-defined function? Provide \n",
    "an example of each.\n",
    "Ans.\n",
    "*built-in function\n",
    "    - Built-in functions that are part of the Python language itself.\n",
    "    - These functions are always available without additional code or import.\n",
    "    - Built-in functions apply to wide range of tasks to be performed.\n",
    "    \n",
    "*user-defined function\n",
    "    - user-defined functions are defined by user for specific purpose.\n",
    "    - These functions are not always available and requires additional code or import\n",
    "    - User-defined functions offer greater flexibility since created for specific needs."
   ]
  },
  {
   "cell_type": "code",
   "execution_count": 1,
   "id": "4f72b634-a01d-47cb-888f-aa88d6c9c88e",
   "metadata": {},
   "outputs": [
    {
     "name": "stdout",
     "output_type": "stream",
     "text": [
      "Krish Naik\n",
      "10\n"
     ]
    }
   ],
   "source": [
    "# Built-in functions\n",
    "print(\"Krish Naik\")\n",
    "print(len('Krish Naik'))"
   ]
  },
  {
   "cell_type": "code",
   "execution_count": 2,
   "id": "9db3d850-cf90-480d-b537-780195d15b58",
   "metadata": {},
   "outputs": [
    {
     "name": "stdout",
     "output_type": "stream",
     "text": [
      "Krish Naik is the best Teacher!\n"
     ]
    }
   ],
   "source": [
    "# User-defined functions\n",
    "def Teacher(name):\n",
    "    print(name, 'is the best Teacher!')\n",
    "Teacher('Krish Naik')"
   ]
  },
  {
   "cell_type": "raw",
   "id": "9dcb17f8-446f-4ba0-8ffa-52ba3091c58d",
   "metadata": {},
   "source": [
    "\n",
    "2. How can you pass arguments to a function in Python? Explain the difference between positional\n",
    "arguments and keyword arguments.\n",
    "Ans.\n",
    "*positional arguments\n",
    "    - These are arguments passed to a function in a specific order.\n",
    "    - Each positional argument corresponds to a specific parameter in the function's definition.\n",
    "*keyword arguments\n",
    "    - These are arguments passed to a function without any order by providing name of each argument.\n",
    "    - Keyword argument makes the function call more explicit and flexible instead of relying on the order."
   ]
  },
  {
   "cell_type": "code",
   "execution_count": 5,
   "id": "0223c151-d105-4c3a-930d-bad36ed33659",
   "metadata": {},
   "outputs": [
    {
     "data": {
      "text/plain": [
       "216"
      ]
     },
     "execution_count": 5,
     "metadata": {},
     "output_type": "execute_result"
    }
   ],
   "source": [
    "# positional arguments \n",
    "def calculate_area1(length, width):\n",
    "    return length * width\n",
    "calculate_area1(36, 6)       "
   ]
  },
  {
   "cell_type": "code",
   "execution_count": 6,
   "id": "c44f574f-929d-409d-af67-4cc5b06042cc",
   "metadata": {},
   "outputs": [
    {
     "data": {
      "text/plain": [
       "216"
      ]
     },
     "execution_count": 6,
     "metadata": {},
     "output_type": "execute_result"
    }
   ],
   "source": [
    "# keyword arguments \n",
    "def calculate_area2(length, width):\n",
    "    return length * width\n",
    "calculate_area2(width = 6, length = 36)"
   ]
  },
  {
   "cell_type": "raw",
   "id": "12fbf44b-c9ae-4336-a472-efa6466b3cd6",
   "metadata": {},
   "source": [
    "\n",
    "3. What is the purpose of the return statement in a function? Can a function have multiple return\n",
    "statements? Explain with an example.\n",
    "Ans.\n",
    "    - If a function does not have a return statement, the return value of a call to that function is None\n",
    "    - This means that the function call still produces a result, but that result is None\n",
    "    - Yes, function can have multiple return statements."
   ]
  },
  {
   "cell_type": "code",
   "execution_count": 7,
   "id": "1f9b34ed-9f03-4761-bedd-139a7494a93c",
   "metadata": {},
   "outputs": [
    {
     "name": "stdout",
     "output_type": "stream",
     "text": [
      "Krish_Naik is the best teacher!\n",
      "None\n"
     ]
    }
   ],
   "source": [
    "def teacher(name):\n",
    "    print(name + ' is the best teacher!')   \n",
    "result = teacher('Krish_Naik')\n",
    "print(result)"
   ]
  },
  {
   "cell_type": "code",
   "execution_count": 26,
   "id": "168f8f73-61b0-4d99-883e-dcfc1096b915",
   "metadata": {},
   "outputs": [
    {
     "name": "stdout",
     "output_type": "stream",
     "text": [
      "9 : Child\n",
      "15 : Teen\n",
      "24 : Young\n",
      "46 : Adult\n",
      "65 : Old\n"
     ]
    }
   ],
   "source": [
    "def classify_age(age):\n",
    "    if age <= 12:\n",
    "        return f\"{age} : Child\"\n",
    "    elif age <= 19:\n",
    "        return f\"{age} : Teen\"\n",
    "    elif age <= 35:\n",
    "        return f\"{age} : Young\"\n",
    "    elif age <= 55:\n",
    "        return f\"{age} : Adult\"\n",
    "    else:\n",
    "        return f\"{age} : Old\"\n",
    "        \n",
    "for i in (9,15,24,46,65):\n",
    "    print(classify_age(i))"
   ]
  },
  {
   "cell_type": "raw",
   "id": "4f0ccbce-33b3-42fe-864f-2bc0bb72c892",
   "metadata": {},
   "source": [
    "\n",
    "4. What are lambda functions in Python? How are they different from regular functions? Provide an\n",
    "example where a lambda function can be useful.\n",
    "Ans.\n",
    "*Lambda Functions\n",
    "    - Lambda functions are unnamed functions defined using the lambda keyword.\n",
    "    - They contain single expression or operation without any complex logic.\n",
    "    - They are used for quick tasks like sorting, filtering or mapping.\n",
    "*How are They Different from Regular Functions?\n",
    "    - Lambda functions don't have a name while regular functions defined with def.\n",
    "    - They are limited to one expression and simple logic while regular functions can have multiple lines and complex logic.\n",
    "    - Typically used for quick operations while regular functions are designed for more comprehensive tasks."
   ]
  },
  {
   "cell_type": "code",
   "execution_count": 27,
   "id": "219f8330-cf39-4dad-a564-8f16e5a5d6f6",
   "metadata": {},
   "outputs": [
    {
     "data": {
      "text/plain": [
       "25"
      ]
     },
     "execution_count": 27,
     "metadata": {},
     "output_type": "execute_result"
    }
   ],
   "source": [
    "square = lambda x: x ** 2\n",
    "square(5)"
   ]
  },
  {
   "cell_type": "raw",
   "id": "67e0a7fd-4c43-4866-96e1-a21db3030fcb",
   "metadata": {},
   "source": [
    "\n",
    "5. How does the concept of \"scope\" apply to functions in Python? Explain the difference between local\n",
    "scope and global scope.\n",
    "Ans.\n",
    "*Scope\n",
    "    - Scope refers to the area of a program where a variable is accessible.\n",
    "    - It determines where the variables and functions can be used within Python program.\n",
    "*Global Scope\n",
    "    - There is one global scope in a Python program.\n",
    "    - Variables defined outside of any function, class, or block are in the global scope.\n",
    "    - Global variables can be accessed from anywhere within the program.\n",
    "*Local Scopes\n",
    "    - There can be multiple local scopes in a Python program.\n",
    "    - Each function defines its own local scope.\n",
    "    - Variables defined inside a function are in the local scope of that function.\n",
    "    - Local variables can only be accessed within the function where they are defined.\n"
   ]
  },
  {
   "cell_type": "raw",
   "id": "c4ba6979-460b-4702-b660-3e310d03b60e",
   "metadata": {},
   "source": [
    "\n",
    "6. How can you use the \"return\" statement in a Python function to return multiple values?\n",
    "Ans.\n",
    "    - The return statement can be used to return values from a function.\n",
    "    - we can return more than one value by returning a tuple, a list or a dictionary.\n",
    "    - Most common way to return multiple values is to use tuple, which allows easy unpacking, handling of multiple values."
   ]
  },
  {
   "cell_type": "code",
   "execution_count": 37,
   "id": "1dece4e6-2058-447b-a904-218a457a3084",
   "metadata": {},
   "outputs": [
    {
     "name": "stdout",
     "output_type": "stream",
     "text": [
      "Result in tuple format :  (42, 30, 216, 6.0)\n",
      "Result in unpacked format :  42\n"
     ]
    }
   ],
   "source": [
    "def calculate_result(a, b):\n",
    "    addition = a + b\n",
    "    subtraction = a - b\n",
    "    multiplication = a * b\n",
    "    division = a / b\n",
    "    return addition, subtraction, multiplication, division\n",
    "result = calculate_result(36, 6)\n",
    "print('Result in tuple format : ',result)\n",
    "addition_result, subtraction_result, multiplication_result, division_result = result\n",
    "print('Result in unpacked format : ',addition_result)"
   ]
  },
  {
   "cell_type": "raw",
   "id": "42ff2e62-5297-45e0-8b1d-acfbe4d2fa3e",
   "metadata": {},
   "source": [
    "\n",
    "7. What is the difference between the \"pass by value\" and \"pass by reference\" concepts when it\n",
    "comes to function arguments in Python?\n",
    "Ans.\n",
    "*pass by value\n",
    "    - When passing by value a copy of the variable is passed to the function.\n",
    "    - Changes made in the function do not affect the original variable.\n",
    "*pass by reference\n",
    "    - When passing by reference a function receives reference(address) to original variable.\n",
    "    - Changes in the function affect the original variable."
   ]
  },
  {
   "cell_type": "code",
   "execution_count": 41,
   "id": "5db8c73b-c452-4828-8c43-7929c89277e3",
   "metadata": {},
   "outputs": [
    {
     "name": "stdout",
     "output_type": "stream",
     "text": [
      "5\n"
     ]
    }
   ],
   "source": [
    "# pass by value\n",
    "def roll_no(x):\n",
    "    x = 10          # just local change not change in original value\n",
    "n = 5\n",
    "roll_no(n)\n",
    "print(n)"
   ]
  },
  {
   "cell_type": "code",
   "execution_count": 49,
   "id": "c16d9b9f-e6d7-496b-b6d8-42ec471d6951",
   "metadata": {},
   "outputs": [
    {
     "name": "stdout",
     "output_type": "stream",
     "text": [
      "[5, 4, 3]\n"
     ]
    }
   ],
   "source": [
    "# pass by referen\n",
    "def add(x):\n",
    "    x.append(3)       # local change is change in original value\n",
    "y = [5,4]\n",
    "add(y)\n",
    "print(y)"
   ]
  },
  {
   "cell_type": "raw",
   "id": "36e19004-a9d0-4c4f-8945-9a7cf7947e62",
   "metadata": {},
   "source": [
    "\n",
    "8. Create a function that can intake integer or decimal value and do following operations:\n",
    "a. Logarithmic function (log x)\n",
    "b. Exponential function (exp(x))\n",
    "c. Power function with base 2 (2^x)\n",
    "d. Square root\n",
    "Ans."
   ]
  },
  {
   "cell_type": "code",
   "execution_count": 19,
   "id": "f0e15ec4-e60c-4c3b-ba79-cfb7e0708e17",
   "metadata": {},
   "outputs": [
    {
     "name": "stdout",
     "output_type": "stream",
     "text": [
      "Enter any number between 1 to 9\n"
     ]
    },
    {
     "name": "stdin",
     "output_type": "stream",
     "text": [
      "your choice is :  4\n"
     ]
    },
    {
     "name": "stdout",
     "output_type": "stream",
     "text": [
      "log_result :  1.3862943611198906\n",
      "expo_result :  54.598150033144236\n",
      "power_result :  16\n",
      "log_result :  1.3862943611198906\n"
     ]
    }
   ],
   "source": [
    "import math\n",
    "def calculate_math(x):\n",
    "    log_result = math.log(x)\n",
    "    expo_result = math.exp(x)\n",
    "    power_result = 2**x\n",
    "    root_result = math.sqrt(x)\n",
    "    return log_result, expo_result, power_result, root_result\n",
    "    \n",
    "print('Enter any number between 1 to 9')\n",
    "y = int(input('your choice is : '))\n",
    "result = calculate_math(y)\n",
    "\n",
    "log_result, expo_result, power_result, root_result = result\n",
    "print('log_result : ', log_result)\n",
    "print('expo_result : ', expo_result)\n",
    "print('power_result : ', power_result)\n",
    "print('log_result : ', log_result)"
   ]
  },
  {
   "cell_type": "raw",
   "id": "12626941-4f17-480a-80a0-325954717bd3",
   "metadata": {},
   "source": [
    "\n",
    "9. Create a function that takes a full name as an argument and returns first name and last name.\n",
    "Ans."
   ]
  },
  {
   "cell_type": "code",
   "execution_count": 24,
   "id": "64e22224-e50f-4457-96a2-7022bd2dede2",
   "metadata": {},
   "outputs": [
    {
     "name": "stdout",
     "output_type": "stream",
     "text": [
      "Enter your full name\n"
     ]
    },
    {
     "name": "stdin",
     "output_type": "stream",
     "text": [
      "your full name is :  Krish Naik\n"
     ]
    },
    {
     "name": "stdout",
     "output_type": "stream",
     "text": [
      "first name is 'Krish' and last name is 'Naik'\n"
     ]
    }
   ],
   "source": [
    "def name_sorter(full_name):\n",
    "    name_sorter = full_name.split()\n",
    "    first_name = name_sorter[0]\n",
    "    last_name = name_sorter[-1]\n",
    "    return first_name, last_name\n",
    "\n",
    "print('Enter your full name')\n",
    "full_name = input('your full name is : ')\n",
    "result = name_sorter(full_name)\n",
    "\n",
    "first_name, last_name = result\n",
    "print(f\"first name is '{first_name}' and last name is '{last_name}'\")"
   ]
  },
  {
   "cell_type": "raw",
   "id": "4b353cca-747d-49f8-bff5-bca503933f98",
   "metadata": {},
   "source": []
  }
 ],
 "metadata": {
  "kernelspec": {
   "display_name": "Python 3 (ipykernel)",
   "language": "python",
   "name": "python3"
  },
  "language_info": {
   "codemirror_mode": {
    "name": "ipython",
    "version": 3
   },
   "file_extension": ".py",
   "mimetype": "text/x-python",
   "name": "python",
   "nbconvert_exporter": "python",
   "pygments_lexer": "ipython3",
   "version": "3.11.7"
  }
 },
 "nbformat": 4,
 "nbformat_minor": 5
}
