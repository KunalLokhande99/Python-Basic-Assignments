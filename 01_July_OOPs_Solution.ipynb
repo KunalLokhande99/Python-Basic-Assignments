{
 "cells": [
  {
   "cell_type": "raw",
   "id": "c855b7d4-2e40-49d7-97d7-b8b0733b2ee0",
   "metadata": {},
   "source": [
    "# 01_July_OOPs_Solution"
   ]
  },
  {
   "cell_type": "raw",
   "id": "88899c23-67f6-4663-9224-c6c14f48f8b4",
   "metadata": {},
   "source": [
    "1. What is the primary goal of Object-Oriented Programming (OOP)?\n",
    "Ans.\n",
    "    - The primary goal of Object-Oriented Programming(OOP) is to organize code in a way that makes it easier to build, \n",
    "       understand, and maintain complex systems\n",
    "    - Object-Oriented Programming(OOP) is especially useful in large projects, where keeping code manageable is critical.\n"
   ]
  },
  {
   "cell_type": "raw",
   "id": "93a3da33-2177-484c-9f21-732e1bb6d25a",
   "metadata": {},
   "source": [
    "\n",
    "2. What is an object in Python?\n",
    "Ans.\n",
    "    - Object is a fundamental concept that represents data structure with attributes and methods.\n",
    "    - Everything in Python from numbers to strings to functions is an object.\n",
    "    - object is like a box that holds both information(attributes) and actions(methods).\n"
   ]
  },
  {
   "cell_type": "raw",
   "id": "86c648d4-2699-466b-ae5a-be5e48978f33",
   "metadata": {},
   "source": [
    "\n",
    "3. What is a class in Python?\n",
    "Ans.\n",
    "    - A class in Python is a blueprint or template used to create objects.\n",
    "    - It defines the structure and behavior of the objects that are instances of that class.\n",
    "    - It specifies what information(attributes) and function(methods) it's objects will have. \n",
    "    - Classes are central to Object-Oriented Programming (OOP).\n",
    "    - Provides a way to organize code, encapsulate data and methods\n",
    "    - Also gives reusability through inheritance and polymorphism. \n"
   ]
  },
  {
   "cell_type": "raw",
   "id": "5de243f5-819e-41ab-9c68-17d22e8c77fb",
   "metadata": {},
   "source": [
    "\n",
    "4. What are attributes and methods in a class?\n",
    "Ans.\n",
    "*attributes\n",
    "    - Attributes are variables that store information or data associated with a class or object.\n",
    "    - They represent the characteristics or properties of the objects created from the class.\n",
    "    - There are two types of attributes in Python classes: instance and class attributes.\n",
    "    - They can be unique to an object (instance attributes).\n",
    "    - They can be shared across all instances of a class (class attributes).\n",
    "*methods\n",
    "    - Methods are functions that define the behavior or actions of a class or an object.\n",
    "    - They describe or tells what an object can do. \n",
    "    - Methods operate on instance or class attributes to perform actions or provide information.\n"
   ]
  },
  {
   "cell_type": "raw",
   "id": "36e84bf5-9bbf-4be3-9d2d-957cd5d9aab3",
   "metadata": {},
   "source": [
    "\n",
    "5. What is the difference between class variables and instance variables in Python?\n",
    "Ans.\n",
    "*Class Variables\n",
    "    - Class variables are shared among all objects created from a class. \n",
    "    - If we change a class variable it affects all objects.\n",
    "    - These variables are defined at the class level.\n",
    "    - We can access them using the class name or any instance.\n",
    "    - Used when we want same value across all objects.\n",
    "*Instance Variables\n",
    "    - Instance variables are unique to each object.\n",
    "    - If we change an instance variable it affects only that object.\n",
    "    - These variables are defined within instance methods like __init__. \n",
    "    - we can access them only through specific objects.\n",
    "    - Used when each object needs its own unique data.\n",
    "        "
   ]
  },
  {
   "cell_type": "raw",
   "id": "4ce9c961-8f93-4a3e-8c3b-7cac200450bf",
   "metadata": {},
   "source": [
    "\n",
    "6. What is the purpose of the self parameter in Python class methods?\n",
    "Ans.\n",
    "    - The self parameter in Python class methods is used to refer to the current object (instance) the method is operating on.\n",
    "    - self allows you to refer to the object's specific data like a name or an ID.\n",
    "    - With self a method can call other methods within the same class.\n",
    "    - self makes sure that when a method runs it's working on the right object.\n",
    "    - self is essential for keeping class-based code organized and functional.\n"
   ]
  },
  {
   "cell_type": "raw",
   "id": "db422f1d-9812-4ff0-966e-38b6c8a5608f",
   "metadata": {},
   "source": [
    "\n",
    "7. For a library management system, you have to design the \"Book\" class with OOP\n",
    "principles in mind. The “Book” class will have following attributes:\n",
    "a. title: Represents the title of the book.\n",
    "b. author: Represents the author(s) of the book.\n",
    "c. isbn: Represents the ISBN (International Standard Book Number) of the book.\n",
    "d. publication_year: Represents the year of publication of the book.\n",
    "e. available_copies: Represents the number of copies available for checkout.\n",
    "The class will also include the following methods:\n",
    "a. check_out(self): Decrements the available copies by one if there are copies\n",
    "available for checkout.\n",
    "b. return_book(self): Increments the available copies by one when a book is\n",
    "returned.\n",
    "c. display_book_info(self): Displays the information about the book, including its\n",
    "attributes and the number of available copies.\n",
    "Ans."
   ]
  },
  {
   "cell_type": "code",
   "execution_count": 1,
   "id": "e743f81f-6510-4486-8634-df76fc1b1211",
   "metadata": {},
   "outputs": [],
   "source": [
    "class Book:\n",
    "    def __init__(self, title, author, isbn, publication_year, available_copies):\n",
    "        self.title=title\n",
    "        self.author=author\n",
    "        self.isbn=isbn\n",
    "        self.publication_year=publication_year\n",
    "        self.available_copies=available_copies\n",
    "    \n",
    "    def check_out(self, copies):\n",
    "        self.available_copies-= copies\n",
    "        print(f'your issued books :',copies)\n",
    "        print('available copies are', self.available_copies)\n",
    "    \n",
    "    def return_book(self, copies):\n",
    "        self.available_copies+= copies\n",
    "        print(f'your returned books :',copies)\n",
    "        print('available copies are', self.available_copies)\n",
    "\n",
    "    def display_book_info(self):\n",
    "        print(f\"Title : {self.title}, Author : {self.author}, isbn : {self.isbn}, publication_year : {self.publication_year}, available_copies : {self.available_copies}\")\n"
   ]
  },
  {
   "cell_type": "code",
   "execution_count": 2,
   "id": "e214a596-6991-4989-9c29-5576be28e342",
   "metadata": {},
   "outputs": [
    {
     "name": "stdout",
     "output_type": "stream",
     "text": [
      "your returned books : 1\n",
      "available copies are 61\n"
     ]
    }
   ],
   "source": [
    "book1 = Book('iNeuron', 'Krish', 606, 2019, 60)\n",
    "book1.return_book(1)"
   ]
  },
  {
   "cell_type": "code",
   "execution_count": 3,
   "id": "fdb30241-f3cc-491f-9c54-3f5d2d4812ad",
   "metadata": {},
   "outputs": [
    {
     "name": "stdout",
     "output_type": "stream",
     "text": [
      "your issued books : 3\n",
      "available copies are 58\n"
     ]
    }
   ],
   "source": [
    "book1.check_out(3)"
   ]
  },
  {
   "cell_type": "code",
   "execution_count": 4,
   "id": "27cbf292-674e-4985-b41f-502f1751b4ec",
   "metadata": {},
   "outputs": [
    {
     "name": "stdout",
     "output_type": "stream",
     "text": [
      "Title : iNeuron, Author : Krish, isbn : 606, publication_year : 2019, available_copies : 58\n"
     ]
    }
   ],
   "source": [
    "book1.display_book_info()"
   ]
  },
  {
   "cell_type": "raw",
   "id": "c7f06cc2-14fd-40e2-8304-a444eb7ad68c",
   "metadata": {},
   "source": []
  },
  {
   "cell_type": "raw",
   "id": "f1b75b06-011f-49ac-999d-d0414fe7c5c5",
   "metadata": {},
   "source": [
    "\n",
    "8. For a ticket booking system, you have to design the \"Ticket\" class with OOP\n",
    "principles in mind. The “Ticket” class should have the following attributes:\n",
    "a. ticket_id: Represents the unique identifier for the ticket.\n",
    "b. event_name: Represents the name of the event.\n",
    "c. event_date: Represents the date of the event.\n",
    "d. venue: Represents the venue of the event.\n",
    "e. seat_number: Represents the seat number associated with the ticket.\n",
    "f. price: Represents the price of the ticket.\n",
    "g. is_reserved: Represents the reservation status of the ticket.\n",
    "The class also includes the following methods:\n",
    "a. reserve_ticket(self): Marks the ticket as reserved if it is not already reserved.\n",
    "b. cancel_reservation(self): Cancels the reservation of the ticket if it is already\n",
    "reserved.\n",
    "c. display_ticket_info(self): Displays the information about the ticket, including its\n",
    "attributes and reservation status.\n",
    "Ans."
   ]
  },
  {
   "cell_type": "code",
   "execution_count": 5,
   "id": "20d424a2-8fb6-4af5-984f-7132c7db702a",
   "metadata": {},
   "outputs": [],
   "source": [
    "class Ticket:\n",
    "    def __init__(self, ticket_id, event_name, event_date, venue, seat_no, price):\n",
    "        self.ticket_id=ticket_id\n",
    "        self.event_name=event_name\n",
    "        self.event_date=event_date\n",
    "        self.venue=venue\n",
    "        self.seat_no=seat_no\n",
    "        self.price=price\n",
    "        self.is_reserved = False\n",
    "\n",
    "    def reserve_ticket(self):\n",
    "        if not self.is_reserved:\n",
    "            self.is_reserved = True\n",
    "            return f\"Ticket {self.ticket_id} has been reserved.\"\n",
    "        else:\n",
    "            return f\"Ticket {self.ticket_id} is already reserved.\"\n",
    "    \n",
    "    def cancel_reservation(self):\n",
    "        if self.is_reserved:\n",
    "            self.is_reserved = False\n",
    "            return f\"Reservation for ticket {self.ticket_id} has been cancelled.\"\n",
    "        else:\n",
    "            return f\"Ticket {self.ticket_id} was not reserved.\"\n",
    "\n",
    "    def display_ticket_info(self):\n",
    "        status = \"Reserved\" if self.is_reserved else \"Not Reserved\"\n",
    "        return (f\"ticket_id : {self.ticket_id}, event_name : {self.event_name}, event_date : {self.event_date}, venue : {self.venue}, seat_no : {self.seat_no}, price : {self.price}, status : {status}\")\n"
   ]
  },
  {
   "cell_type": "code",
   "execution_count": 6,
   "id": "47ea5734-6d28-4a83-892f-2b9c08db8ea9",
   "metadata": {},
   "outputs": [
    {
     "data": {
      "text/plain": [
       "'Ticket abc has been reserved.'"
      ]
     },
     "execution_count": 6,
     "metadata": {},
     "output_type": "execute_result"
    }
   ],
   "source": [
    "ticket1 = Ticket('abc', 'Live class', '15', 'iNeuron', 606, 100)\n",
    "ticket1.reserve_ticket()"
   ]
  },
  {
   "cell_type": "code",
   "execution_count": 7,
   "id": "06e1f5bb-b135-4c4b-b77d-1a7f81f191c9",
   "metadata": {},
   "outputs": [
    {
     "data": {
      "text/plain": [
       "'Reservation for ticket abc has been cancelled.'"
      ]
     },
     "execution_count": 7,
     "metadata": {},
     "output_type": "execute_result"
    }
   ],
   "source": [
    "ticket1.cancel_reservation()"
   ]
  },
  {
   "cell_type": "code",
   "execution_count": 8,
   "id": "1e7ef777-0f79-4328-8186-faf7ea771794",
   "metadata": {},
   "outputs": [
    {
     "data": {
      "text/plain": [
       "'ticket_id : abc, event_name : Live class, event_date : 15, venue : iNeuron, seat_no : 606, price : 100, status : Not Reserved'"
      ]
     },
     "execution_count": 8,
     "metadata": {},
     "output_type": "execute_result"
    }
   ],
   "source": [
    "ticket1.display_ticket_info()"
   ]
  },
  {
   "cell_type": "raw",
   "id": "0daa6e81-227a-49b0-be98-c450cbf9e470",
   "metadata": {},
   "source": []
  },
  {
   "cell_type": "raw",
   "id": "2ca7d224-f034-4618-a095-2bffbdf5f9ab",
   "metadata": {},
   "source": [
    "\n",
    "9. You are creating a shopping cart for an e-commerce website. Using OOP to model\n",
    "the \"ShoppingCart\" functionality the class should contain following attributes and\n",
    "methods:\n",
    "a. items: Represents the list of items in the shopping cart.\n",
    "The class also includes the following methods:\n",
    "a. add_item(self, item): Adds an item to the shopping cart by appending it to the\n",
    "list of items.\n",
    "b. remove_item(self, item): Removes an item from the shopping cart if it exists in\n",
    "the list.\n",
    "c. view_cart(self): Displays the items currently present in the shopping cart.\n",
    "d. clear_cart(self): Clears all items from the shopping cart by reassigning an\n",
    "empty list to the items attribute.\n",
    "Ans."
   ]
  },
  {
   "cell_type": "code",
   "execution_count": 9,
   "id": "3e13033d-7907-4d87-849d-926fabb25bf7",
   "metadata": {},
   "outputs": [],
   "source": [
    "class ShoppingCart:\n",
    "    def __init__(self):\n",
    "        self.items=[]\n",
    "\n",
    "    def add_item(self, item):\n",
    "        self.items.append(item)\n",
    "        return (f\"{item}, added\")\n",
    "\n",
    "    def remove_item(self, item):\n",
    "        if item in self.items:\n",
    "            self.items.remove(item)\n",
    "            return(f\"{item}, removed\")\n",
    "        else:\n",
    "            return(f\"no item named\", {item})\n",
    "\n",
    "    def view_cart(self):\n",
    "        return(f\"your cart list : {self.items}\")\n",
    "\n",
    "    def clear_cart(self):\n",
    "        self.items=[]\n",
    "        return(f\"cart is Empty Now\")"
   ]
  },
  {
   "cell_type": "code",
   "execution_count": 10,
   "id": "772dff3e-90b2-4f9c-8ac4-4c082b3276f2",
   "metadata": {},
   "outputs": [
    {
     "data": {
      "text/plain": [
       "'mangos, added'"
      ]
     },
     "execution_count": 10,
     "metadata": {},
     "output_type": "execute_result"
    }
   ],
   "source": [
    "cart = ShoppingCart()\n",
    "cart.add_item('mangos')"
   ]
  },
  {
   "cell_type": "code",
   "execution_count": 11,
   "id": "1ac50ab4-98b3-4b01-b7e5-05caabe84745",
   "metadata": {},
   "outputs": [
    {
     "data": {
      "text/plain": [
       "'coconut, added'"
      ]
     },
     "execution_count": 11,
     "metadata": {},
     "output_type": "execute_result"
    }
   ],
   "source": [
    "cart.add_item('coconut')"
   ]
  },
  {
   "cell_type": "code",
   "execution_count": 12,
   "id": "6af38c6c-56fa-4a7f-9c00-e10b890f1674",
   "metadata": {},
   "outputs": [
    {
     "data": {
      "text/plain": [
       "'coconut, removed'"
      ]
     },
     "execution_count": 12,
     "metadata": {},
     "output_type": "execute_result"
    }
   ],
   "source": [
    "cart.remove_item('coconut')"
   ]
  },
  {
   "cell_type": "code",
   "execution_count": 13,
   "id": "8cd1d062-2215-43a0-9ee5-ac82f92d9791",
   "metadata": {},
   "outputs": [
    {
     "data": {
      "text/plain": [
       "\"your cart list : ['mangos']\""
      ]
     },
     "execution_count": 13,
     "metadata": {},
     "output_type": "execute_result"
    }
   ],
   "source": [
    "cart.view_cart()"
   ]
  },
  {
   "cell_type": "code",
   "execution_count": 14,
   "id": "0df1f8c4-bbac-4f17-8959-a789c93d0382",
   "metadata": {},
   "outputs": [
    {
     "data": {
      "text/plain": [
       "'cart is Empty Now'"
      ]
     },
     "execution_count": 14,
     "metadata": {},
     "output_type": "execute_result"
    }
   ],
   "source": [
    "cart.clear_cart()"
   ]
  },
  {
   "cell_type": "raw",
   "id": "468474cb-d8d9-46aa-af64-45777c053a71",
   "metadata": {},
   "source": []
  },
  {
   "cell_type": "raw",
   "id": "0224bc9b-2fd2-4ca9-b669-13bf04939167",
   "metadata": {},
   "source": [
    "\n",
    "10. Imagine a school management system. You have to design the \"Student\" class using\n",
    "OOP concepts.The “Student” class has the following attributes:\n",
    "a. name: Represents the name of the student.\n",
    "b. age: Represents the age of the student.\n",
    "c. grade: Represents the grade or class of the student.\n",
    "d. student_id: Represents the unique identifier for the student.\n",
    "e. attendance: Represents the attendance record of the student.\n",
    "The class should also include the following methods:\n",
    "a. update_attendance(self, date, status): Updates the attendance record of the\n",
    "student for a given date with the provided status (e.g., present or absent).\n",
    "b. get_attendance(self): Returns the attendance record of the student.\n",
    "c. get_average_attendance(self): Calculates and returns the average\n",
    "attendance percentage of the student based on their attendance record.\n",
    "Ans."
   ]
  },
  {
   "cell_type": "code",
   "execution_count": 15,
   "id": "47876ca3-cf5e-4d34-a221-42f34ba47d30",
   "metadata": {},
   "outputs": [],
   "source": [
    "class Student:\n",
    "    def __init__(self, name, age, grade, id):\n",
    "        self.name=name\n",
    "        self.age=age\n",
    "        self.grade=grade\n",
    "        self.id=id\n",
    "        self.attendance={}\n",
    "\n",
    "    def update_attendance(self, date, status):\n",
    "        self.attendance[date]=status\n",
    "        return 'attendance updated'\n",
    "\n",
    "    def get_attendance(self):\n",
    "        return self.attendance\n",
    "\n",
    "    def get_average_attendance(self):\n",
    "        total_days = len(self.attendance)\n",
    "        present_days = sum(1 for status in self.attendance.values() if status.lower() == 'p')\n",
    "        if total_days == 0:\n",
    "            return 0.0\n",
    "        return (present_days / total_days) * 100"
   ]
  },
  {
   "cell_type": "code",
   "execution_count": 16,
   "id": "bec3fb68-1bb1-498f-95a6-cfac35eae4ce",
   "metadata": {},
   "outputs": [
    {
     "data": {
      "text/plain": [
       "'Krish'"
      ]
     },
     "execution_count": 16,
     "metadata": {},
     "output_type": "execute_result"
    }
   ],
   "source": [
    "student1 = Student('Krish', 30, 'A', 606)\n",
    "student1.name"
   ]
  },
  {
   "cell_type": "code",
   "execution_count": 17,
   "id": "7c28835d-6121-43dd-9a25-1c4a6aa7140e",
   "metadata": {},
   "outputs": [
    {
     "data": {
      "text/plain": [
       "'attendance updated'"
      ]
     },
     "execution_count": 17,
     "metadata": {},
     "output_type": "execute_result"
    }
   ],
   "source": [
    "student1.update_attendance(1,'p')"
   ]
  },
  {
   "cell_type": "code",
   "execution_count": 18,
   "id": "5e1cccb5-2dd2-4fb0-88cd-058fcd87eeb2",
   "metadata": {},
   "outputs": [
    {
     "data": {
      "text/plain": [
       "{1: 'p'}"
      ]
     },
     "execution_count": 18,
     "metadata": {},
     "output_type": "execute_result"
    }
   ],
   "source": [
    "student1.get_attendance()"
   ]
  },
  {
   "cell_type": "code",
   "execution_count": 19,
   "id": "8c6cb8c6-5736-4479-b6cd-2dca7a6c63b4",
   "metadata": {},
   "outputs": [
    {
     "data": {
      "text/plain": [
       "100.0"
      ]
     },
     "execution_count": 19,
     "metadata": {},
     "output_type": "execute_result"
    }
   ],
   "source": [
    "student1.get_average_attendance()"
   ]
  },
  {
   "cell_type": "raw",
   "id": "08d488df-59ec-4778-b9ab-2b09fa8e43ad",
   "metadata": {},
   "source": []
  }
 ],
 "metadata": {
  "kernelspec": {
   "display_name": "Python 3 (ipykernel)",
   "language": "python",
   "name": "python3"
  },
  "language_info": {
   "codemirror_mode": {
    "name": "ipython",
    "version": 3
   },
   "file_extension": ".py",
   "mimetype": "text/x-python",
   "name": "python",
   "nbconvert_exporter": "python",
   "pygments_lexer": "ipython3",
   "version": "3.11.7"
  }
 },
 "nbformat": 4,
 "nbformat_minor": 5
}
