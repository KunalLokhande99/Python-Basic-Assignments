{
 "cells": [
  {
   "cell_type": "raw",
   "id": "811a3dca-e378-444a-b5b5-2b6ae7828523",
   "metadata": {},
   "source": [
    "# Assignment 03 Solution"
   ]
  },
  {
   "cell_type": "raw",
   "id": "6274d0e3-e075-45b0-838c-d8cafa4673b3",
   "metadata": {},
   "source": [
    "1. Why are functions advantageous to have in your programs?\n",
    "Ans.\n",
    "Functions are advantageous because of their following properties -\n",
    "    - Modularity: Functions break down code into smaller, manageable parts.\n",
    "    - Reusability: Once defined functions can be used multiple times.\n",
    "    - Abstraction: Functions hide complex details, making code easier to understand.\n",
    "    - Readability: Functions provide descriptive names for blocks of code improving clarity.\n",
    "    - Maintainability: Changes or fixes can be made in one place affecting all function calls.\n",
    "    - Encapsulation: Functions encapsulate a set of operations keeping code organized.\n",
    "    - Code Organization: Functions help structure code into logical units, improving navigation.\n"
   ]
  },
  {
   "cell_type": "raw",
   "id": "f36256d3-6c58-44c4-b840-96b84c570bbd",
   "metadata": {},
   "source": [
    "2. When does the code in a function run: when it's specified or when it's called?\n",
    "Ans. The code in a function runs only when the function is called, not when it's specified.\n"
   ]
  },
  {
   "cell_type": "raw",
   "id": "24aaa12e-86bb-424b-bc1d-83b19a0cd779",
   "metadata": {},
   "source": [
    "3. What statement creates a function?\n",
    "Ans. The def() statement is used to create or define a function in Python."
   ]
  },
  {
   "cell_type": "code",
   "execution_count": 2,
   "id": "970aeac0-2e92-405e-a249-0bb10a26b660",
   "metadata": {},
   "outputs": [
    {
     "name": "stdout",
     "output_type": "stream",
     "text": [
      "Krish_Naik is the best teacher!\n"
     ]
    }
   ],
   "source": [
    "def teacher(name):\n",
    "    print(name + ' is the best teacher!')\n",
    "teacher('Krish_Naik')"
   ]
  },
  {
   "cell_type": "raw",
   "id": "a532800b-6065-4ec4-a04c-60092fa99fb8",
   "metadata": {},
   "source": [
    "4. What is the difference between a function and a function call?\n",
    "Ans.\n",
    "*function\n",
    "    - function is a block of code that performs a specific task or set of tasks when called.\n",
    "    - It consists of function definition, function name, parameters (if any), and the code to execute.\n",
    "    - The def() statement is used to create or define a function in Python.\n",
    "*function Call\n",
    "    - function call is the act of executing a function to perform its defined task.\n",
    "    - It consists of function name, parantheses() containing arguments to be passed to the function.\n",
    "    - When function is called, control of the program transfers to function's body, and code inside function is executed.\n",
    "    - Function calls are made whenever functionality of the function is required within the program.\n"
   ]
  },
  {
   "cell_type": "raw",
   "id": "c10b9590-e54b-47c0-9857-2234669b837a",
   "metadata": {},
   "source": [
    "5. How many global scopes are there in a Python program? How many local scopes?\n",
    "Ans. \n",
    "*Global Scope\n",
    "    - There is one global scope in a Python program.\n",
    "    - Variables defined outside of any function, class, or block are in the global scope.\n",
    "    - Global variables can be accessed from anywhere within the program.\n",
    "*Local Scopes\n",
    "    - There can be multiple local scopes in a Python program.\n",
    "    - Each function defines its own local scope.\n",
    "    - Variables defined inside a function are in the local scope of that function.\n",
    "    - Local variables can only be accessed within the function where they are defined.\n"
   ]
  },
  {
   "cell_type": "raw",
   "id": "3340083e-3f9b-4faf-bc32-44df768df6c1",
   "metadata": {},
   "source": [
    "6. What happens to variables in a local scope when the function call returns?\n",
    "Ans.\n",
    "*Temporary Existence\n",
    "    - Variables inside a function exist only while the function is running.\n",
    "    - They're like items you use while cooking; once you finish cooking (function call returns), you don't need them anymore.\n",
    "*Memory Cleanup\n",
    "    - When the function finishes, the computer clears away (deallocates) the memory used by those variables.\n",
    "    - It's like cleaning up the kitchen after cooking; you don't need the utensils anymore, so you put them away.\n",
    "*No Longer Accessible\n",
    "    - After the function call returns, you can't use those variables anymore.\n",
    "    - It's like you can't use the cooking utensils outside the kitchen; they're specific to that task and place.\n"
   ]
  },
  {
   "cell_type": "raw",
   "id": "f7ce10b8-34da-4f46-bdf5-2df1482fba1c",
   "metadata": {},
   "source": [
    "7. What is the concept of a return value? Is it possible to have a return value in an expression?\n",
    "Ans.\n",
    "*Return Value\n",
    "    - When a function finishes its task, it can send back a result.\n",
    "    - This result is called the return value.\n",
    "    - Return value is like the result or output of a function, we can use whenever we need it.\n",
    "    - It's like when we order food, restaurant sends back the dish we ordered.\n",
    "*Return Value in an Expression:\n",
    "    - Yes, it's possible to use a return value in an expression.\n",
    "    - we can use return value in expressions, assignments, or arguments to other functions.\n",
    "    - It's like using a number in math problem; we can add, subtract, or do anything with it\n",
    "    - It's like when we order food, we can order anything, as much as we want.\n"
   ]
  },
  {
   "cell_type": "code",
   "execution_count": 3,
   "id": "77f0adcc-7fad-4798-a953-05a01ccf6d8d",
   "metadata": {},
   "outputs": [
    {
     "data": {
      "text/plain": [
       "6"
      ]
     },
     "execution_count": 3,
     "metadata": {},
     "output_type": "execute_result"
    }
   ],
   "source": [
    "def add_numbers(x, y):\n",
    "    return x + y\n",
    "add_numbers(0, 6)"
   ]
  },
  {
   "cell_type": "code",
   "execution_count": null,
   "id": "489af21f-45b8-493d-b11a-14fdc56b34d0",
   "metadata": {},
   "outputs": [],
   "source": [
    "8. If a function does not have a return statement, what is the return value of a call to that function?\n",
    "Ans.\n",
    "    - If a function does not have a return statement, the return value of a call to that function is None\n",
    "    - This means that the function call still produces a result, but that result is None"
   ]
  },
  {
   "cell_type": "code",
   "execution_count": 8,
   "id": "efb79fcb-5d96-40a0-9318-ec6b9e367c29",
   "metadata": {},
   "outputs": [
    {
     "name": "stdout",
     "output_type": "stream",
     "text": [
      "Krish_Naik is the best teacher!\n",
      "None\n"
     ]
    }
   ],
   "source": [
    "def teacher(name):\n",
    "    print(name + ' is the best teacher!')\n",
    "    \n",
    "result = teacher('Krish_Naik')\n",
    "print(result)\n",
    "#print(teacher('Krish_Naik'))"
   ]
  },
  {
   "cell_type": "raw",
   "id": "69b1d48d-e3ce-4942-b74b-ac133e2d45b0",
   "metadata": {},
   "source": [
    "9. How do you make a function variable refer to the global variable?\n",
    "Ans.\n",
    "To make a function variable refer to the global variable, we have to use global keyword inside the function.\n",
    "Function variable refers to the global variable with the same name.\n",
    "Any change to function variable will affect global variable.\n"
   ]
  },
  {
   "cell_type": "code",
   "execution_count": 14,
   "id": "4b958ab3-54f4-4533-8031-9983dc25fb41",
   "metadata": {},
   "outputs": [
    {
     "name": "stdout",
     "output_type": "stream",
     "text": [
      "Before making global x =  6\n",
      "After making global x =  99\n"
     ]
    }
   ],
   "source": [
    "x = 6\n",
    "print('Before making global x = ',x)\n",
    "def global_no():\n",
    "    global x \n",
    "    x = 99\n",
    "global_no()\n",
    "print('After making global x = ',x)"
   ]
  },
  {
   "cell_type": "raw",
   "id": "dd232c0f-063e-4a26-b2d2-5e174e7441a2",
   "metadata": {},
   "source": [
    "10. What is the data type of None?\n",
    "Ans.\n",
    "    - The data type of None in Python is NoneType.\n",
    "    - Variables that have not been assigned a value gets default to None."
   ]
  },
  {
   "cell_type": "code",
   "execution_count": 17,
   "id": "b4e19057-f485-4dbc-b20f-15aa85a1e4ce",
   "metadata": {},
   "outputs": [
    {
     "name": "stdout",
     "output_type": "stream",
     "text": [
      "<class 'NoneType'>\n"
     ]
    }
   ],
   "source": [
    "x = None\n",
    "print(type(x))"
   ]
  },
  {
   "cell_type": "raw",
   "id": "1153342e-0e4f-4272-828a-02dab26aab51",
   "metadata": {},
   "source": [
    "11. What does the sentence import areallyourpetsnamederic do?\n",
    "Ans.\n",
    "    - It will try to import a module named 'areallyourpetsnamederic' in Python.\n",
    "    - If such module exists and available for current environment it will be imported.\n",
    "    - Otherwise it will throw 'ModuleNotFoundError'."
   ]
  },
  {
   "cell_type": "code",
   "execution_count": 18,
   "id": "1738caee-8dd6-4de1-aa2d-c316c8cf96ea",
   "metadata": {},
   "outputs": [
    {
     "ename": "ModuleNotFoundError",
     "evalue": "No module named 'areallyourpetsnamederic'",
     "output_type": "error",
     "traceback": [
      "\u001b[1;31m---------------------------------------------------------------------------\u001b[0m",
      "\u001b[1;31mModuleNotFoundError\u001b[0m                       Traceback (most recent call last)",
      "Cell \u001b[1;32mIn[18], line 1\u001b[0m\n\u001b[1;32m----> 1\u001b[0m \u001b[38;5;28;01mimport\u001b[39;00m \u001b[38;5;21;01mareallyourpetsnamederic\u001b[39;00m\n",
      "\u001b[1;31mModuleNotFoundError\u001b[0m: No module named 'areallyourpetsnamederic'"
     ]
    }
   ],
   "source": [
    "import areallyourpetsnamederic"
   ]
  },
  {
   "cell_type": "raw",
   "id": "5f51ad53-f885-4521-a92c-288810a2b9a0",
   "metadata": {},
   "source": [
    "12. If you had a bacon() feature in a spam module, what would you call it after importing spam?\n",
    "Ans.\n",
    "    - import spam\n",
    "    - spam.bacon()"
   ]
  },
  {
   "cell_type": "raw",
   "id": "111c3c0e-17fa-4ec8-aa7b-00a480452d2d",
   "metadata": {},
   "source": [
    "13. What can you do to save a programme from crashing if it encounters an error?\n",
    "Ans.\n",
    "    - we can use error handling techniques such as try-except blocks. "
   ]
  },
  {
   "cell_type": "code",
   "execution_count": 19,
   "id": "9cf4c48f-acf7-4034-a680-17509dc31044",
   "metadata": {},
   "outputs": [
    {
     "name": "stdout",
     "output_type": "stream",
     "text": [
      "sorry!!! No Division with Zero!!!\n"
     ]
    }
   ],
   "source": [
    "try:\n",
    "    Division = 6 / 0\n",
    "except ZeroDivisionError:\n",
    "    print(\"sorry!!! No Division with Zero!!!\")"
   ]
  },
  {
   "cell_type": "raw",
   "id": "48e59915-3104-4d66-b7f5-d51459de868e",
   "metadata": {},
   "source": [
    "14. What is the purpose of the try clause? What is the purpose of the except clause?\n",
    "Ans.\n",
    "*try\n",
    "    - The try clause is used to wrap the code that might potentially raise an exception.\n",
    "    - The try clause is like a safety net. You put the code that might cause problems inside it.\n",
    "    - It lets Python know, \"Hey, i found errors here!\"\n",
    "*except \n",
    "    - The except clause is used to handle specific types of exceptions that may occur within the try block.\n",
    "    - The except clause is like a safety response. It's like what if something goes wrong.\n",
    "    - It tells Python, \"If something bad happens, do this.\"\n"
   ]
  },
  {
   "cell_type": "code",
   "execution_count": null,
   "id": "3338357f-7259-4f1f-95a2-79a773cf26cb",
   "metadata": {},
   "outputs": [],
   "source": []
  }
 ],
 "metadata": {
  "kernelspec": {
   "display_name": "Python 3 (ipykernel)",
   "language": "python",
   "name": "python3"
  },
  "language_info": {
   "codemirror_mode": {
    "name": "ipython",
    "version": 3
   },
   "file_extension": ".py",
   "mimetype": "text/x-python",
   "name": "python",
   "nbconvert_exporter": "python",
   "pygments_lexer": "ipython3",
   "version": "3.11.7"
  }
 },
 "nbformat": 4,
 "nbformat_minor": 5
}
