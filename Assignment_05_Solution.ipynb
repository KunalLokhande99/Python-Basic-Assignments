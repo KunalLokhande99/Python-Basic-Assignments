{
 "cells": [
  {
   "cell_type": "raw",
   "id": "e403528a-a8b2-4fd4-a0d5-e58b933bc0c5",
   "metadata": {},
   "source": [
    "# Assignment_05_Solution"
   ]
  },
  {
   "cell_type": "raw",
   "id": "c993dcb5-ad5a-466e-a4b7-fac9c298b312",
   "metadata": {},
   "source": [
    "1. What does an empty dictionary's code look like?\n",
    "Ans. dict1 = {}"
   ]
  },
  {
   "cell_type": "raw",
   "id": "655f2f04-a2a9-48d6-a8fc-7affcbc06264",
   "metadata": {},
   "source": [
    "2. What is the value of a dictionary value with the key 'foo' and the value 42?\n",
    "Ans. dict1 = {'foo' : 42} ....value of key foo is 42"
   ]
  },
  {
   "cell_type": "raw",
   "id": "e66bcdfb-9384-4a82-8365-19c00afb4d72",
   "metadata": {},
   "source": [
    "\n",
    "3. What is the most significant distinction between a dictionary and a list?\n",
    "Ans.\n",
    "    - The most significant distinction between dictionary and list is how they store and retrieve data.\n",
    "    - Dictionaries let you find things by name(key), while lists let you find things by position(index).\n",
    "    - Dictionary Stores data as key-value pairs\n",
    "    - Retrieving data from a dictionary is done by specifying key associated with the desired value.\n",
    "    - List Stores data as sequence of elements.\n",
    "    - Retrieving data from a list is done by specifying the index of the desired element.\n"
   ]
  },
  {
   "cell_type": "raw",
   "id": "6eef3c1b-46a4-463e-a373-d560e676778c",
   "metadata": {},
   "source": [
    "4. What happens if you try to access spam['foo'] if spam is {'bar': 100}?\n",
    "Ans. It will throw 'KeyError'"
   ]
  },
  {
   "cell_type": "code",
   "execution_count": 2,
   "id": "50e6c9d1-db10-40cb-8351-f22f0e8f4f11",
   "metadata": {},
   "outputs": [
    {
     "ename": "KeyError",
     "evalue": "'foo'",
     "output_type": "error",
     "traceback": [
      "\u001b[1;31m---------------------------------------------------------------------------\u001b[0m",
      "\u001b[1;31mKeyError\u001b[0m                                  Traceback (most recent call last)",
      "Cell \u001b[1;32mIn[2], line 2\u001b[0m\n\u001b[0;32m      1\u001b[0m spam \u001b[38;5;241m=\u001b[39m {\u001b[38;5;124m'\u001b[39m\u001b[38;5;124mbar\u001b[39m\u001b[38;5;124m'\u001b[39m: \u001b[38;5;241m100\u001b[39m}\n\u001b[1;32m----> 2\u001b[0m spam[\u001b[38;5;124m'\u001b[39m\u001b[38;5;124mfoo\u001b[39m\u001b[38;5;124m'\u001b[39m]\n",
      "\u001b[1;31mKeyError\u001b[0m: 'foo'"
     ]
    }
   ],
   "source": [
    "spam = {'bar': 100}\n",
    "spam['foo']"
   ]
  },
  {
   "cell_type": "raw",
   "id": "8eff3e9d-b681-4b3b-9b8f-fbfd858b088d",
   "metadata": {},
   "source": [
    "\n",
    "5. If a dictionary is stored in spam, what is the difference between the expressions 'cat' in spam and \n",
    "'cat' in spam.keys()?\n",
    "Ans.\n",
    "*'cat' in spam\n",
    "    - It directly checks if the key 'cat' exists in the dictionary spam.\n",
    "    - If 'cat' is a key in spam, it's like asking, \"Is there a 'cat' in the dictionary?\"\n",
    "    - Returns True if 'cat' is found, otherwise False.\n",
    "\n",
    "*'cat' in spam.keys()\n",
    "    - It first gets all the keys of the dictionary spam.\n",
    "    - Then it checks if the key 'cat' exists among those keys.\n",
    "    - It's like asking, \"Is 'cat' one of the keys in the dictionary?\"\n",
    "    - Returns True if 'cat' is found among the keys, otherwise False.\n"
   ]
  },
  {
   "cell_type": "raw",
   "id": "0f36f21e-001a-4fd6-920e-f8d749065e66",
   "metadata": {},
   "source": [
    "\n",
    "6. If a dictionary is stored in spam, what is the difference between the expressions 'cat' in spam and \n",
    "'cat' in spam.values()?\n",
    "Ans.\n",
    "*'cat' in spam\n",
    "    - It directly checks if the key 'cat' exists in the dictionary spam.\n",
    "    - If 'cat' is a key in spam, it's like asking, \"Is there a 'cat' in the dictionary?\"\n",
    "    - Returns True if 'cat' is found, otherwise False.\n",
    "*'cat' in spam.values()\n",
    "    - It first gets all the values of the dictionary spam.\n",
    "    - Then it checks if the values 'cat' exists among those values.\n",
    "    - It's like asking, \"Is 'cat' one of the values in the dictionary?\"\n",
    "    - Returns True if 'cat' is found among the values, otherwise False.\n"
   ]
  },
  {
   "cell_type": "raw",
   "id": "1b37e503-98f9-418a-9ae0-5a326edba8a4",
   "metadata": {},
   "source": [
    "7. What is a shortcut for the following code?\n",
    "if 'color' not in spam:\n",
    "spam['color'] = 'black'\n",
    "Ans.\n",
    "    - spam.setdefault('color', 'black')"
   ]
  },
  {
   "cell_type": "raw",
   "id": "4f50b77a-dc2a-45da-9521-34a57fdcacba",
   "metadata": {},
   "source": [
    "8. How do you \"pretty print\" dictionary values using which module and function?\n",
    "Ans.\n",
    "    - To \"pretty print\" dictionary values in Python, we can use the pprint module and its pprint() function."
   ]
  },
  {
   "cell_type": "code",
   "execution_count": 7,
   "id": "0f9a77d7-4ba6-4dc9-82a6-b789b3bb03e3",
   "metadata": {},
   "outputs": [
    {
     "name": "stdout",
     "output_type": "stream",
     "text": [
      "{'age': 'i dont no', 'country': 'India', 'name': 'Krish Naik'}\n"
     ]
    }
   ],
   "source": [
    "import pprint\n",
    "dict2 = {'name': 'Krish Naik', 'age': 'i dont no', 'country': 'India'}\n",
    "pprint.pprint(dict2)"
   ]
  },
  {
   "cell_type": "raw",
   "id": "cbdd3137-79d5-42bb-a997-92fabcefe7bc",
   "metadata": {},
   "source": []
  }
 ],
 "metadata": {
  "kernelspec": {
   "display_name": "Python 3 (ipykernel)",
   "language": "python",
   "name": "python3"
  },
  "language_info": {
   "codemirror_mode": {
    "name": "ipython",
    "version": 3
   },
   "file_extension": ".py",
   "mimetype": "text/x-python",
   "name": "python",
   "nbconvert_exporter": "python",
   "pygments_lexer": "ipython3",
   "version": "3.11.7"
  }
 },
 "nbformat": 4,
 "nbformat_minor": 5
}
