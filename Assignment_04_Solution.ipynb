{
 "cells": [
  {
   "cell_type": "raw",
   "id": "c18fb5b1-16b7-440a-9f22-037b2b015c54",
   "metadata": {},
   "source": [
    "# Assignment_04_Solution"
   ]
  },
  {
   "cell_type": "raw",
   "id": "aed76ecc-6c5d-4762-ad23-4815a7de7ab8",
   "metadata": {},
   "source": [
    "1. What exactly is []?\n",
    "Ans.\n",
    "    - In Python [] represents an empty list.\n",
    "    - [] is a syntax used to denote list in Python.\n",
    "    - A list is a collection of items and an empty list has no items.\n",
    "    - It's like empty basket; there's nothing inside it.\n"
   ]
  },
  {
   "cell_type": "raw",
   "id": "dc5f7342-634e-4274-8f28-739f939ef90a",
   "metadata": {},
   "source": [
    "2. In a list of values stored in a variable called spam, how would you assign the value 'hello' as the \n",
    "third value? (Assume [2, 4, 6, 8, 10] are in spam.)\n",
    "Ans."
   ]
  },
  {
   "cell_type": "code",
   "execution_count": 3,
   "id": "d001ea2a-72ab-491d-bf08-c462c39d4cbe",
   "metadata": {},
   "outputs": [
    {
     "data": {
      "text/plain": [
       "[2, 4, 'hello', 8, 10]"
      ]
     },
     "execution_count": 3,
     "metadata": {},
     "output_type": "execute_result"
    }
   ],
   "source": [
    "spam = [2, 4, 6, 8, 10]\n",
    "spam[2] = 'hello'\n",
    "spam"
   ]
  },
  {
   "cell_type": "raw",
   "id": "b4de1e25-d57c-4c55-93ea-0a483aa42d02",
   "metadata": {},
   "source": [
    "\n",
    "Let's pretend the spam includes the list ['a', 'b', 'c', 'd'] for the next three queries.\n",
    "3. What is the value of spam[int(int('3' * 2) / 11)]?\n",
    "Ans."
   ]
  },
  {
   "cell_type": "code",
   "execution_count": 4,
   "id": "7221c93b-fee4-452c-9ba3-1d2748b58c0f",
   "metadata": {},
   "outputs": [
    {
     "data": {
      "text/plain": [
       "'d'"
      ]
     },
     "execution_count": 4,
     "metadata": {},
     "output_type": "execute_result"
    }
   ],
   "source": [
    "spam = ['a', 'b', 'c', 'd']\n",
    "spam[int(int('3' * 2) / 11)]"
   ]
  },
  {
   "cell_type": "raw",
   "id": "6b2d6e0c-a280-4136-929a-b0c8a548d92b",
   "metadata": {},
   "source": [
    "4. What is the value of spam[-1]?\n",
    "Ans."
   ]
  },
  {
   "cell_type": "code",
   "execution_count": 6,
   "id": "91b08c6e-55d3-4d1b-9a74-4f30f209587e",
   "metadata": {},
   "outputs": [
    {
     "data": {
      "text/plain": [
       "'d'"
      ]
     },
     "execution_count": 6,
     "metadata": {},
     "output_type": "execute_result"
    }
   ],
   "source": [
    "spam[-1]"
   ]
  },
  {
   "cell_type": "raw",
   "id": "1e8ad399-7f88-4272-995c-d167916ee995",
   "metadata": {},
   "source": [
    "5. What is the value of spam[:2]?\n",
    "Ans."
   ]
  },
  {
   "cell_type": "code",
   "execution_count": 7,
   "id": "406426ef-dafe-4866-9fb7-dd6a5e5b0655",
   "metadata": {},
   "outputs": [
    {
     "data": {
      "text/plain": [
       "['a', 'b']"
      ]
     },
     "execution_count": 7,
     "metadata": {},
     "output_type": "execute_result"
    }
   ],
   "source": [
    "spam[:2]"
   ]
  },
  {
   "cell_type": "raw",
   "id": "410c51ef-f5ed-40ef-9e43-1d6d42d5d592",
   "metadata": {},
   "source": [
    "\n",
    "Let's pretend bacon has the list [3.14, 'cat,' 11, 'cat,' True] for the next three questions.\n",
    "6. What is the value of bacon.index('cat')?\n",
    "Ans."
   ]
  },
  {
   "cell_type": "code",
   "execution_count": 12,
   "id": "be8fddd2-e165-4c09-870e-c8520025c5f3",
   "metadata": {},
   "outputs": [
    {
     "data": {
      "text/plain": [
       "1"
      ]
     },
     "execution_count": 12,
     "metadata": {},
     "output_type": "execute_result"
    }
   ],
   "source": [
    "bacon = [3.14, 'cat', 11, 'cat', True]\n",
    "bacon.index('cat')"
   ]
  },
  {
   "cell_type": "raw",
   "id": "36bf38b3-0d55-4ee9-ba37-6a9867d55fbd",
   "metadata": {},
   "source": [
    "7. How does bacon.append(99) change the look of the list value in bacon?\n",
    "Ans."
   ]
  },
  {
   "cell_type": "code",
   "execution_count": 13,
   "id": "28c8dcfd-0b1e-4540-901b-df5ab9955744",
   "metadata": {},
   "outputs": [
    {
     "data": {
      "text/plain": [
       "[3.14, 'cat', 11, 'cat', True, 99]"
      ]
     },
     "execution_count": 13,
     "metadata": {},
     "output_type": "execute_result"
    }
   ],
   "source": [
    "bacon.append(99)\n",
    "bacon"
   ]
  },
  {
   "cell_type": "raw",
   "id": "48cac0d9-9971-499a-be11-efc2cff95310",
   "metadata": {},
   "source": [
    "8. How does bacon.remove('cat') change the look of the list in bacon?\n",
    "Ans."
   ]
  },
  {
   "cell_type": "code",
   "execution_count": 14,
   "id": "8938c261-ccf6-45ff-ae05-6c72d9ded389",
   "metadata": {},
   "outputs": [
    {
     "data": {
      "text/plain": [
       "[3.14, 11, 'cat', True, 99]"
      ]
     },
     "execution_count": 14,
     "metadata": {},
     "output_type": "execute_result"
    }
   ],
   "source": [
    "bacon.remove('cat')\n",
    "bacon"
   ]
  },
  {
   "cell_type": "raw",
   "id": "86ec2a9f-713d-4b57-87b1-38f95de5cfb2",
   "metadata": {},
   "source": [
    "\n",
    "9. What are the list concatenation and list replication operators?\n",
    "Ans.\n",
    "*List Concatenation\n",
    "    - The + operator is used to concatenate two or more lists into a single list.\n",
    "    - It creates a new list containing all the elements of the operands in the order they appear.\n",
    "*List Replication\n",
    "    - The * operator is used to replicate a list for certain number of times.\n",
    "    - It creates a new list by repeating the elements of the operands list."
   ]
  },
  {
   "cell_type": "code",
   "execution_count": 15,
   "id": "a59e119e-6cc5-4703-b22c-f8b44ec29706",
   "metadata": {},
   "outputs": [
    {
     "data": {
      "text/plain": [
       "['Krish', 'Naik']"
      ]
     },
     "execution_count": 15,
     "metadata": {},
     "output_type": "execute_result"
    }
   ],
   "source": [
    "# List concatenation\n",
    "list1 = ['Krish']\n",
    "list2 = ['Naik']\n",
    "list1 + list2"
   ]
  },
  {
   "cell_type": "code",
   "execution_count": 16,
   "id": "7692433d-35b5-4a3f-be02-7448d58e69d4",
   "metadata": {},
   "outputs": [
    {
     "data": {
      "text/plain": [
       "['Krish', 'Krish']"
      ]
     },
     "execution_count": 16,
     "metadata": {},
     "output_type": "execute_result"
    }
   ],
   "source": [
    "# List replication\n",
    "list1 = ['Krish']\n",
    "list1*2"
   ]
  },
  {
   "cell_type": "raw",
   "id": "251b759c-12e8-4af4-a804-f2b7b97c8d65",
   "metadata": {},
   "source": [
    "\n",
    "10. What is difference between the list methods append() and insert()?\n",
    "Ans.\n",
    "*append()\n",
    "    - The append() method is used to add a single element to the end of a list.\n",
    "    - It takes only one argument, ie element to be added at the end of list.\n",
    "*insert()\n",
    "    - The insert() method is used to add element at specific position in the list.\n",
    "    - It takes two arguments: the index where the element should be inserted, and the element "
   ]
  },
  {
   "cell_type": "code",
   "execution_count": 18,
   "id": "b33cb574-de27-44db-ba61-1c6976491cff",
   "metadata": {},
   "outputs": [
    {
     "data": {
      "text/plain": [
       "['Krish', 'Naik']"
      ]
     },
     "execution_count": 18,
     "metadata": {},
     "output_type": "execute_result"
    }
   ],
   "source": [
    "# append method\n",
    "list1 = ['Krish']\n",
    "list1.append('Naik')\n",
    "list1"
   ]
  },
  {
   "cell_type": "code",
   "execution_count": 20,
   "id": "aa65f0c6-e655-48e0-bf98-c1f912058a15",
   "metadata": {},
   "outputs": [
    {
     "data": {
      "text/plain": [
       "['Krish', 'Naik', 'iNeuron']"
      ]
     },
     "execution_count": 20,
     "metadata": {},
     "output_type": "execute_result"
    }
   ],
   "source": [
    "# insert method\n",
    "list1.insert(2, 'iNeuron')\n",
    "list1"
   ]
  },
  {
   "cell_type": "raw",
   "id": "bed7db7d-94a3-42e8-bb2f-25665fcbe264",
   "metadata": {},
   "source": [
    "\n",
    "11. What are the two methods for removing items from a list?\n",
    "Ans.\n",
    "*remove()\n",
    "    - The remove() method is used to remove the first occurrence of a specific value from the list.\n",
    "    - It takes only one argument ie element to be removed.\n",
    "*pop()\n",
    "    - The pop() method is used to remove the element at a specific index in the list.\n",
    "    - If no index is specified, it removes the last element of the list."
   ]
  },
  {
   "cell_type": "code",
   "execution_count": 22,
   "id": "179383e4-f1a0-4cd3-94f9-475afdffbb5b",
   "metadata": {},
   "outputs": [
    {
     "data": {
      "text/plain": [
       "['Krish', 'Naik', 'iNeuron']"
      ]
     },
     "execution_count": 22,
     "metadata": {},
     "output_type": "execute_result"
    }
   ],
   "source": [
    "# remove method\n",
    "list1 = ['Krish', 'iNeuron', 'Naik', 'iNeuron']\n",
    "list1.remove('iNeuron')\n",
    "list1"
   ]
  },
  {
   "cell_type": "code",
   "execution_count": 24,
   "id": "16a5609b-fcb9-4199-9086-1a6c20be54c4",
   "metadata": {},
   "outputs": [
    {
     "data": {
      "text/plain": [
       "['Krish', 'Naik', 'iNeuron']"
      ]
     },
     "execution_count": 24,
     "metadata": {},
     "output_type": "execute_result"
    }
   ],
   "source": [
    "# pop method\n",
    "list1 = ['Krish', 'iNeuron', 'Naik', 'iNeuron']\n",
    "list1.pop(1)\n",
    "list1"
   ]
  },
  {
   "cell_type": "raw",
   "id": "ffcff651-a668-4e6c-8590-3f4813fd1007",
   "metadata": {},
   "source": [
    "\n",
    "12. Describe how list values and string values are identical.\n",
    "Ans.\n",
    "Both are sequence data types in Python.\n",
    "Both support indexing and slicing operations.\n",
    "represents ordered collection of items where each item has specific position.\n",
    "elements can be accessed by using square brackets [].\n",
    "can be iterated over using loops or comprehension expressions.\n",
    "Both lists and strings support concatenation, replication operations.\n"
   ]
  },
  {
   "cell_type": "raw",
   "id": "b66d3620-6dcc-4c5e-ad81-50fed8bfa558",
   "metadata": {},
   "source": [
    "\n",
    "13. What's the difference between tuples and lists?\n",
    "Ans.\n",
    "*List\n",
    "    - Lists are mutable.\n",
    "    - enclosed in square brackets [ ]\n",
    "    - order and contents may change over time.\n",
    "    - require more memory and processing time.\n",
    "*Tuple\n",
    "    - Tuples are immutable.\n",
    "    - enclosed in parentheses ( )\n",
    "    - order and contents not change over time.\n",
    "    - require less memory and processing time.\n",
    "        "
   ]
  },
  {
   "cell_type": "raw",
   "id": "d213ed94-cf2e-4c6b-b7b0-62ee208c9c44",
   "metadata": {},
   "source": [
    "14. How do you type a tuple value that only contains the integer 42?\n",
    "Ans."
   ]
  },
  {
   "cell_type": "code",
   "execution_count": 25,
   "id": "a89bce82-4c7c-4d9a-9168-5a51f2869660",
   "metadata": {},
   "outputs": [
    {
     "data": {
      "text/plain": [
       "42"
      ]
     },
     "execution_count": 25,
     "metadata": {},
     "output_type": "execute_result"
    }
   ],
   "source": [
    "tuple1 = (42)\n",
    "tuple1"
   ]
  },
  {
   "cell_type": "raw",
   "id": "a2348756-ce8f-4908-90e3-81d53c0c160a",
   "metadata": {},
   "source": [
    "15. How do you get a list value's tuple form? How do you get a tuple value's list form?\n",
    "Ans."
   ]
  },
  {
   "cell_type": "code",
   "execution_count": 26,
   "id": "2db84c06-f860-4d37-b535-c9580a3de6a0",
   "metadata": {},
   "outputs": [],
   "source": [
    "list1 = ['Krish', 'Naik']\n",
    "tuple1 = ('Krish', 'Naik')"
   ]
  },
  {
   "cell_type": "code",
   "execution_count": 27,
   "id": "3df058b5-c2b3-4fac-820c-95302c5aeb66",
   "metadata": {},
   "outputs": [
    {
     "data": {
      "text/plain": [
       "['Krish', 'Naik']"
      ]
     },
     "execution_count": 27,
     "metadata": {},
     "output_type": "execute_result"
    }
   ],
   "source": [
    "tuple2 = (list1)\n",
    "tuple2"
   ]
  },
  {
   "cell_type": "code",
   "execution_count": 28,
   "id": "1f89c7de-d810-40d3-8314-4bc3d0d6d4ac",
   "metadata": {},
   "outputs": [
    {
     "data": {
      "text/plain": [
       "[('Krish', 'Naik')]"
      ]
     },
     "execution_count": 28,
     "metadata": {},
     "output_type": "execute_result"
    }
   ],
   "source": [
    "list2 = [tuple1]\n",
    "list2"
   ]
  },
  {
   "cell_type": "raw",
   "id": "f7cdff43-ab58-4b7e-b4ed-fe8ee7e26a22",
   "metadata": {},
   "source": [
    "\n",
    "16. Variables that \"contain\" list values are not necessarily lists themselves. Instead, what do they contain?\n",
    "Ans.\n",
    "    - Variables are like labels or names.\n",
    "    - When we assign list to variable we are sticking a label on that list.\n",
    "    - Variables that \"contain\" lists actually contain references of the memory locations where the lists are stored.\n",
    "    - It's like having a post-id with the address of a house instead of the house itself.\n",
    "    - When we manipulate the list through variable we actually manipulate the list object that the variable points to.\n",
    "    - Changes made to the list through one variable affect all variables that refer the same list object.\n"
   ]
  },
  {
   "cell_type": "raw",
   "id": "305ad1b4-6784-47b7-9e61-b5072c2f1b6f",
   "metadata": {},
   "source": [
    "\n",
    "17. How do you distinguish between copy.copy() and copy.deepcopy()?\n",
    "Ans.\n",
    "*copy.copy()\n",
    "    - Also known as Shallow Copy.\n",
    "    - Makes a new object.\n",
    "    - Copies the top-level structure.\n",
    "    - Nested objects are still references to the original.\n",
    "    - Changes in nested objects affect both original and copy.\n",
    "    \n",
    "*copy.deepcopy()\n",
    "    - Also known as Deep Copy.\n",
    "    - Makes a new object.\n",
    "    - Recursively copies all nested objects.\n",
    "    - Both top-level and nested structures are independent.\n",
    "    - Changes in nested objects only affect the copy.\n",
    "\n",
    "In short, copy.copy() is like copying the surface, while copy.deepcopy() copies everything, "
   ]
  },
  {
   "cell_type": "code",
   "execution_count": null,
   "id": "bc893abf-3e0b-4e3d-be44-c40807d38432",
   "metadata": {},
   "outputs": [],
   "source": []
  }
 ],
 "metadata": {
  "kernelspec": {
   "display_name": "Python 3 (ipykernel)",
   "language": "python",
   "name": "python3"
  },
  "language_info": {
   "codemirror_mode": {
    "name": "ipython",
    "version": 3
   },
   "file_extension": ".py",
   "mimetype": "text/x-python",
   "name": "python",
   "nbconvert_exporter": "python",
   "pygments_lexer": "ipython3",
   "version": "3.11.7"
  }
 },
 "nbformat": 4,
 "nbformat_minor": 5
}
