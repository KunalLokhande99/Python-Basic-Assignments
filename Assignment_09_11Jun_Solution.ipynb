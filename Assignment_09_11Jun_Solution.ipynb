{
 "cells": [
  {
   "cell_type": "raw",
   "id": "a8ff18d7-d6cc-4538-8310-8fde9927de7c",
   "metadata": {},
   "source": [
    "# Assignment_09_11Jun_Solution"
   ]
  },
  {
   "cell_type": "raw",
   "id": "7860be7e-18a6-46d1-8ff2-85ec6310ac83",
   "metadata": {},
   "source": [
    "\n",
    "1. What is a lambda function in Python, and how does it differ from a regular function?\n",
    "Ans.\n",
    "*Lambda Functions\n",
    "    - Lambda functions are unnamed functions defined using the lambda keyword.\n",
    "    - They contain single expression or operation without any complex logic.\n",
    "    - They are used for quick tasks like sorting, filtering or mapping.\n",
    "*How are They Different from Regular Functions?\n",
    "    - Lambda functions don't have a name while regular functions defined with def.\n",
    "    - They are limited to one expression and simple logic while regular functions can have multiple lines and complex logic.\n",
    "    - Typically used for quick operations while regular functions are designed for more comprehensive tasks.\n"
   ]
  },
  {
   "cell_type": "raw",
   "id": "d8fd59cd-40d1-4fda-82d3-c34dfafd07b3",
   "metadata": {},
   "source": [
    "\n",
    "2. Can a lambda function in Python have multiple arguments? If yes, how can you define and use them?\n",
    "Ans.\n",
    "    - Yes! a lambda function in Python have multiple arguments.\n",
    "    - we can define a lambda function with multiple arguments by listing them in lambda definition and separated by comma.\n",
    "    - After defining we can call the lambda function by providing the required arguments just like other function."
   ]
  },
  {
   "cell_type": "code",
   "execution_count": 1,
   "id": "932d7e8d-760b-47fc-9484-a970f35f1e28",
   "metadata": {},
   "outputs": [
    {
     "data": {
      "text/plain": [
       "(9, 16)"
      ]
     },
     "execution_count": 1,
     "metadata": {},
     "output_type": "execute_result"
    }
   ],
   "source": [
    "square = lambda x, y: (x ** 2, y ** 2)\n",
    "square(3, 4)"
   ]
  },
  {
   "cell_type": "raw",
   "id": "a62ed199-bb27-422d-8cca-ed9e0172308c",
   "metadata": {},
   "source": [
    "\n",
    "3. How are lambda functions typically used in Python? Provide an example use case.\n",
    "Ans.\n",
    "    - Lambda functions in Python are used for small, quick operations where a full function might be unnecessary. \n",
    "    - They are usually anonymous ie unnamed and used for short tasks like sorting, filtering, transforming the data."
   ]
  },
  {
   "cell_type": "code",
   "execution_count": 9,
   "id": "d9ce58aa-c874-4a47-b753-d22d37eb5dfc",
   "metadata": {},
   "outputs": [
    {
     "data": {
      "text/plain": [
       "['Krish', 'Kunal', 'MSDhoni', 'Sudhanshu']"
      ]
     },
     "execution_count": 9,
     "metadata": {},
     "output_type": "execute_result"
    }
   ],
   "source": [
    "# lambda function to sort data \n",
    "name_list = [\"MSDhoni\", \"Krish\", \"Kunal\", \"Sudhanshu\"]  # sort names by order\n",
    "sorted(name_list, key=lambda name: len(name))"
   ]
  },
  {
   "cell_type": "code",
   "execution_count": 10,
   "id": "1c8bd547-c7bb-4bc4-b501-b051d86dc04d",
   "metadata": {},
   "outputs": [
    {
     "data": {
      "text/plain": [
       "[2, 4, 6]"
      ]
     },
     "execution_count": 10,
     "metadata": {},
     "output_type": "execute_result"
    }
   ],
   "source": [
    "# lambda function to filter data\n",
    "number_list = [1, 2, 3, 4, 5, 6]\n",
    "list(filter(lambda x: x % 2 == 0, number_list))       # filter even numbers"
   ]
  },
  {
   "cell_type": "code",
   "execution_count": 11,
   "id": "95688db1-9a46-4767-8b51-a2fe14f36d37",
   "metadata": {},
   "outputs": [
    {
     "data": {
      "text/plain": [
       "[2, 4, 6, 8, 10]"
      ]
     },
     "execution_count": 11,
     "metadata": {},
     "output_type": "execute_result"
    }
   ],
   "source": [
    "# lambda function to transform data\n",
    "numbers_list = [1, 2, 3, 4, 5]\n",
    "list(map(lambda x: x * 2, numbers_list))          # transforms list by squaring"
   ]
  },
  {
   "cell_type": "raw",
   "id": "d2d19455-e0d5-4a87-8f1f-513a13090edb",
   "metadata": {},
   "source": [
    "\n",
    "4. What are the advantages and limitations of lambda functions compared to regular functions in Python?\n",
    "Ans.\n",
    "*Advantages\n",
    "    - Lambda functions don't have a name while regular functions defined with def.\n",
    "    - They are limited to one expression and simple logic while regular functions can have multiple lines and complex logic.\n",
    "    - Typically used for quick operations while regular functions are designed for more comprehensive tasks.\n",
    "*Limitations\n",
    "    - Lambda functions can't include statements like loops or multi-line logic.  \n",
    "    - Lambda functions are might be harder to understand for complex logic.\n",
    "    - Lambda functions don't support default parameters, whereas regular functions do.\n"
   ]
  },
  {
   "cell_type": "raw",
   "id": "c72d8094-b627-4fc0-99b1-a7769320327d",
   "metadata": {},
   "source": [
    "\n",
    "5. Are lambda functions in Python able to access variables defined outside of their own scope?\n",
    "Explain with an example.\n",
    "Ans.\n",
    "    - Lambda functions in Python can access variables that are defined outside their immediate scope. \n",
    "    - This behavior is called as \"closures\" or \"lexical scoping.\" \n",
    "    - It allows lambda functions to use variables from the surrounding context.\n",
    "    - But as any change to the external variable might affect the lambda's behavior."
   ]
  },
  {
   "cell_type": "code",
   "execution_count": 14,
   "id": "db5f9898-1a09-4743-8d92-eadb2db2cc06",
   "metadata": {},
   "outputs": [
    {
     "data": {
      "text/plain": [
       "36"
      ]
     },
     "execution_count": 14,
     "metadata": {},
     "output_type": "execute_result"
    }
   ],
   "source": [
    "a = 2                     # variable outside of function.\n",
    "square = lambda x: x ** a\n",
    "square(6)"
   ]
  },
  {
   "cell_type": "raw",
   "id": "91f638bf-277f-46e8-a058-dd8cdf2df961",
   "metadata": {},
   "source": [
    "\n",
    "6. Write a lambda function to calculate the square of a given number\n",
    "Ans."
   ]
  },
  {
   "cell_type": "code",
   "execution_count": 16,
   "id": "21dd1727-5431-4841-af4d-81f4825cc2ee",
   "metadata": {},
   "outputs": [
    {
     "data": {
      "text/plain": [
       "81"
      ]
     },
     "execution_count": 16,
     "metadata": {},
     "output_type": "execute_result"
    }
   ],
   "source": [
    "square = lambda x: x ** 2\n",
    "square(9)"
   ]
  },
  {
   "cell_type": "raw",
   "id": "f01766f6-e5d7-40dc-a057-c068f0b7e607",
   "metadata": {},
   "source": [
    "\n",
    "7. Create a lambda function to find the maximum value in a list of integers\n",
    "Ans."
   ]
  },
  {
   "cell_type": "code",
   "execution_count": 38,
   "id": "02fd4f29-4aa0-4dff-909e-cfee4a69f7ce",
   "metadata": {},
   "outputs": [
    {
     "data": {
      "text/plain": [
       "6"
      ]
     },
     "execution_count": 38,
     "metadata": {},
     "output_type": "execute_result"
    }
   ],
   "source": [
    "list1 = [1,2,3,4,5,6]\n",
    "max_value = lambda x : max(x) \n",
    "max_value(list1)"
   ]
  },
  {
   "cell_type": "raw",
   "id": "99a2127d-6064-4b2b-a1a4-33362f9020e9",
   "metadata": {},
   "source": [
    "\n",
    "8. Implement a lambda function to filter out all the even numbers from a list of integers.\n",
    "Ans."
   ]
  },
  {
   "cell_type": "code",
   "execution_count": 40,
   "id": "cbef4ee9-d0ae-4977-8f14-65b82cb5b914",
   "metadata": {},
   "outputs": [
    {
     "data": {
      "text/plain": [
       "[2, 4, 6]"
      ]
     },
     "execution_count": 40,
     "metadata": {},
     "output_type": "execute_result"
    }
   ],
   "source": [
    "list2 = [1, 2, 3, 4, 5, 6]\n",
    "even_nos = list(filter(lambda x: x % 2 == 0, list2)) \n",
    "even_nos"
   ]
  },
  {
   "cell_type": "raw",
   "id": "013c5467-dd4f-451d-94d4-29efb82004bf",
   "metadata": {},
   "source": [
    "\n",
    "9. Write a lambda function to sort a list of strings in ascending order based on the length of each string\n",
    "Ans."
   ]
  },
  {
   "cell_type": "code",
   "execution_count": 41,
   "id": "e94078da-19df-403c-8db2-63440768ee86",
   "metadata": {},
   "outputs": [
    {
     "data": {
      "text/plain": [
       "['Krish', 'Kunal', 'MSDhoni', 'Sudhanshu']"
      ]
     },
     "execution_count": 41,
     "metadata": {},
     "output_type": "execute_result"
    }
   ],
   "source": [
    "list3 = [\"MSDhoni\", \"Krish\", \"Kunal\", \"Sudhanshu\"]\n",
    "sorted_list = sorted(list3, key=lambda name: len(name))\n",
    "sorted_list"
   ]
  },
  {
   "cell_type": "raw",
   "id": "2fe2f5e8-1980-4018-b71a-516a7de151d1",
   "metadata": {},
   "source": [
    "\n",
    "10. Create a lambda function that takes two lists as input and returns a new list containing the\n",
    "common elements between the two lists.\n",
    "ans."
   ]
  },
  {
   "cell_type": "code",
   "execution_count": 42,
   "id": "cc877509-b4ac-47ba-b513-a4cecce8c3e8",
   "metadata": {},
   "outputs": [
    {
     "data": {
      "text/plain": [
       "[4, 5, 6]"
      ]
     },
     "execution_count": 42,
     "metadata": {},
     "output_type": "execute_result"
    }
   ],
   "source": [
    "list4 = [1, 2, 3, 4, 5, 6]\n",
    "list5 = [4, 5, 6, 7, 8, 9]\n",
    "common_list = list(filter(lambda x: x in list4, list5))\n",
    "common_list"
   ]
  },
  {
   "cell_type": "raw",
   "id": "47e1f40c-ffed-40cb-aa93-ac9e3596004b",
   "metadata": {},
   "source": [
    "\n",
    "11. Write a recursive function to calculate the factorial of a given positive integer.\n",
    "Ans.\n",
    "    - recursive function is a function that calls itself with modified parameters until it reaches a base value."
   ]
  },
  {
   "cell_type": "code",
   "execution_count": 48,
   "id": "b709bd39-1992-40db-94a6-3fd93e888354",
   "metadata": {},
   "outputs": [
    {
     "data": {
      "text/plain": [
       "720"
      ]
     },
     "execution_count": 48,
     "metadata": {},
     "output_type": "execute_result"
    }
   ],
   "source": [
    "def factorial(n):\n",
    "    if n <= 1:                    # factorial of 1 or 0 is 1\n",
    "        return 1\n",
    "    else:\n",
    "        return n * factorial(n - 1)  # recursive function\n",
    "factorial(6)"
   ]
  },
  {
   "cell_type": "code",
   "execution_count": null,
   "id": "907561bb-d150-4486-bcae-fd39e2eae44c",
   "metadata": {},
   "outputs": [],
   "source": [
    "\n",
    "12. Implement a recursive function to compute the nth Fibonacci number.\n",
    "Ans.\n",
    "    - The Fibonacci sequence is a series of numbers where each number is the sum of the two preceding ones,\n",
    "      typically starting with 0 and 1. "
   ]
  },
  {
   "cell_type": "code",
   "execution_count": 51,
   "id": "1f27adda-bc67-4faa-b2f6-9784b22c0285",
   "metadata": {},
   "outputs": [
    {
     "data": {
      "text/plain": [
       "8"
      ]
     },
     "execution_count": 51,
     "metadata": {},
     "output_type": "execute_result"
    }
   ],
   "source": [
    "def fibonacci(n):\n",
    "    if n == 0:\n",
    "        return 0\n",
    "    elif n == 1:                                 # fibonacci of 1 or 0 is 1 and 0\n",
    "        return 1\n",
    "    else:\n",
    "        return fibonacci(n - 1) + fibonacci(n - 2)     # Recursive function\n",
    "fibonacci(6)"
   ]
  },
  {
   "cell_type": "raw",
   "id": "226d827f-72ee-4c41-a571-512d7ec2039f",
   "metadata": {},
   "source": [
    "\n",
    "13. Create a recursive function to find the sum of all the elements in a given list.\n",
    "Ans."
   ]
  },
  {
   "cell_type": "code",
   "execution_count": 52,
   "id": "d5919482-97f1-42f0-ade9-8b716c6d3729",
   "metadata": {},
   "outputs": [
    {
     "data": {
      "text/plain": [
       "15"
      ]
     },
     "execution_count": 52,
     "metadata": {},
     "output_type": "execute_result"
    }
   ],
   "source": [
    "def recursive_sum(lst):\n",
    "    if not lst:                     \n",
    "        return 0\n",
    "    else:\n",
    "        return lst[0] + recursive_sum(lst[1:])\n",
    "recursive_sum([1, 2, 3, 4, 5])"
   ]
  },
  {
   "cell_type": "raw",
   "id": "9b00e848-5a75-49be-9ba9-215f5568f4a1",
   "metadata": {},
   "source": [
    "\n",
    "14. Write a recursive function to determine whether a given string is a palindrome.\n",
    "Ans.\n",
    "    - A palindrome is a word, phrase, number, or sequence of characters that reads same from forward and backward, \n",
    "      disregarding spaces, punctuation, and capitalization."
   ]
  },
  {
   "cell_type": "code",
   "execution_count": 62,
   "id": "baa34a80-0fdc-4ebf-a488-fa00b7b7bc72",
   "metadata": {},
   "outputs": [
    {
     "data": {
      "text/plain": [
       "True"
      ]
     },
     "execution_count": 62,
     "metadata": {},
     "output_type": "execute_result"
    }
   ],
   "source": [
    "def is_palindrome(string):\n",
    "    if len(string) <= 1:\n",
    "        return True\n",
    "    elif string[0] == string[-1]:\n",
    "        return is_palindrome(string[1:-1])\n",
    "    else:\n",
    "        return False\n",
    "is_palindrome('level')"
   ]
  },
  {
   "cell_type": "raw",
   "id": "9e3832b6-f444-45ef-a006-0b6d3b99e5ef",
   "metadata": {},
   "source": [
    "\n",
    "15. Implement a recursive function to find the greatest common divisor (GCD) of two positive integers.\n",
    "Ans.\n",
    "    - The Greatest Common Divisor (GCD) of two positive integers is the largest integer that can divide both numbers,\n",
    "      without leaving a remainder."
   ]
  },
  {
   "cell_type": "code",
   "execution_count": 72,
   "id": "4ed0476b-25df-4c41-9637-130d960f7e26",
   "metadata": {},
   "outputs": [
    {
     "name": "stdout",
     "output_type": "stream",
     "text": [
      "16\n",
      "6\n"
     ]
    }
   ],
   "source": [
    "def gcd(a, b):\n",
    "    if b == 0:\n",
    "        return a\n",
    "    return gcd(b, a % b)\n",
    "print(gcd(48,64))\n",
    "print(gcd(54,24))"
   ]
  },
  {
   "cell_type": "raw",
   "id": "0a9d5802-6f24-4518-afc2-433b4b6f9834",
   "metadata": {},
   "source": []
  }
 ],
 "metadata": {
  "kernelspec": {
   "display_name": "Python 3 (ipykernel)",
   "language": "python",
   "name": "python3"
  },
  "language_info": {
   "codemirror_mode": {
    "name": "ipython",
    "version": 3
   },
   "file_extension": ".py",
   "mimetype": "text/x-python",
   "name": "python",
   "nbconvert_exporter": "python",
   "pygments_lexer": "ipython3",
   "version": "3.11.7"
  }
 },
 "nbformat": 4,
 "nbformat_minor": 5
}
