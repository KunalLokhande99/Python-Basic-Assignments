{
 "cells": [
  {
   "cell_type": "raw",
   "id": "b5b6ef79-5d69-46df-a2ea-d2aedce17148",
   "metadata": {},
   "source": [
    "# Assignment_06_Solution"
   ]
  },
  {
   "cell_type": "raw",
   "id": "fb26a3f2-19fd-4bed-a424-ecc4e0e6f8f3",
   "metadata": {},
   "source": [
    "Q.1. What are keywords in python? Using the keyword library, print all the python keywords.\n",
    "Ans.\n",
    "    - Keywords are reserved words in Python with some special meanings.\n",
    "    - They have predefined purposes and cannot be used as identifiers ie variable names, function names."
   ]
  },
  {
   "cell_type": "code",
   "execution_count": 1,
   "id": "991d1380-9582-4c2a-8016-395a89d4f4d9",
   "metadata": {},
   "outputs": [
    {
     "name": "stdout",
     "output_type": "stream",
     "text": [
      "['False', 'None', 'True', 'and', 'as', 'assert', 'async', 'await', 'break', 'class', 'continue', 'def', 'del', 'elif', 'else', 'except', 'finally', 'for', 'from', 'global', 'if', 'import', 'in', 'is', 'lambda', 'nonlocal', 'not', 'or', 'pass', 'raise', 'return', 'try', 'while', 'with', 'yield']\n"
     ]
    }
   ],
   "source": [
    "import keyword\n",
    "print(keyword.kwlist)"
   ]
  },
  {
   "cell_type": "raw",
   "id": "584117fb-7550-45d1-92f6-8f3fcf8f99fa",
   "metadata": {},
   "source": [
    "\n",
    "Q.2. What are the rules to create variables in python?\n",
    "Ans.\n",
    "    - A variable name must start with a letter or the underscore character\n",
    "    - A variable name cannot start with a number\n",
    "    - A variable name can only contain alpha-numeric characters and underscores (A-z, 0-9, and _ )\n",
    "    - A Variable name is case-sensitive (age, Age and AGE are three different variables)\n",
    "    - A variable name cannot be any of the Python keywords.\n",
    "\n",
    "These are the rules defined by Guido Van Rossum to declare a pyton variable.\n"
   ]
  },
  {
   "cell_type": "raw",
   "id": "5ea7cdc9-c1db-4350-bf3e-ceae83bc0ea5",
   "metadata": {},
   "source": [
    "\n",
    "Q.3. What are the standards and conventions followed for the nomenclature of variables in\n",
    "python to improve code readability and maintainability?\n",
    "Ans.\n",
    "    - Use of clear, descriptive names.\n",
    "    - Should avoid single-letter variable names.\n",
    "    - Use of meaningful abbreviations if necessary.\n",
    "    - should be consistent with naming conventions.\n",
    "    - use of Lowercase with underscores for variable names.\n",
    "    - Use of uppercase with underscores for constants.\n",
    "    - Should avoid using reserved words.\n",
    "    - Use of clear names for function arguments.\n",
    "    - Must be clear with boolean variable names.\n",
    "    - Consider using type hints for clarity.\n",
    "                               "
   ]
  },
  {
   "cell_type": "raw",
   "id": "0c1153bb-c0cf-4dee-a5cb-3447ec40d0d3",
   "metadata": {},
   "source": [
    "Q.4. What will happen if a keyword is used as a variable name?\n",
    "Ans.  it will give 'SyntaxError'"
   ]
  },
  {
   "cell_type": "code",
   "execution_count": 2,
   "id": "2b5d29b2-5e4a-427d-86cf-c00e8f6dda33",
   "metadata": {},
   "outputs": [
    {
     "ename": "SyntaxError",
     "evalue": "invalid syntax (1408956439.py, line 1)",
     "output_type": "error",
     "traceback": [
      "\u001b[1;36m  Cell \u001b[1;32mIn[2], line 1\u001b[1;36m\u001b[0m\n\u001b[1;33m    for = 'Krish_Naik'\u001b[0m\n\u001b[1;37m        ^\u001b[0m\n\u001b[1;31mSyntaxError\u001b[0m\u001b[1;31m:\u001b[0m invalid syntax\n"
     ]
    }
   ],
   "source": [
    "for = 'Krish_Naik'\n",
    "print(for)"
   ]
  },
  {
   "cell_type": "raw",
   "id": "0e18d703-226f-4005-84f7-9d45a7187fc4",
   "metadata": {},
   "source": [
    "\n",
    "Q.5. For what purpose def keyword is used?\n",
    "Ans.\n",
    "    - def keyword is used to define functions in Python.\n",
    "    - It is written at beginning followed by function name.\n",
    "    - Then Inside the parentheses parameters are defined if any.\n",
    "    - Then colon is provided.\n",
    "    - now we write the body of the function ie code.\n",
    "    - This is the block of code is executed when function is called.\n",
    "    - finally we can include return statement to send value back to the function.\n",
    "    - if return statement is not provided then it returns None."
   ]
  },
  {
   "cell_type": "code",
   "execution_count": 4,
   "id": "0087213f-3ed7-4759-8884-e8b2f3191c88",
   "metadata": {},
   "outputs": [
    {
     "data": {
      "text/plain": [
       "' Krish Naik, is the Best Teacher!'"
      ]
     },
     "execution_count": 4,
     "metadata": {},
     "output_type": "execute_result"
    }
   ],
   "source": [
    "def Teacher(name):\n",
    "    return f\" {name}, is the Best Teacher!\"\n",
    "Teacher(\"Krish Naik\")"
   ]
  },
  {
   "cell_type": "raw",
   "id": "dbe58b73-198f-46c9-88f3-9c02d1d1755a",
   "metadata": {},
   "source": [
    "\n",
    "Q.6. What is the operation of this special character ‘\\’?\n",
    "Ans.\n",
    "    - The \\ character in Python is called the backslash or escape character.\n",
    "    - It lets you use special characters in strings like \\n for newline, \\t for tab.\n",
    "    - we can use it to split long lines of code across multiple lines for readability.\n",
    "    - It helps to represent special characters using Unicode escape sequences.\n",
    "    - It can be used to create raw strings where backslashes are treated as literal characters.\n"
   ]
  },
  {
   "cell_type": "raw",
   "id": "267bd46f-6517-4a55-a44f-4d60bed8aa0b",
   "metadata": {},
   "source": [
    "\n",
    "Q.7. Give an example of the following conditions:\n",
    "(i) Homogeneous list\n",
    "(ii) Heterogeneous set\n",
    "(iii) Homogeneous tuple\n",
    "Ans.\n",
    "    - Homogeneous list contains elements of the same data type.\n",
    "    - list1 = [1,2,3,4,5,6]\n",
    "    - Heterogeneous set contains elements of different data type.\n",
    "    - set1  = {1, 'Krish', 0.6}\n",
    "    - Homogeneous tuple contains elements of the same data type\n",
    "    - tuple1 = (1,2,3,4,5,6)\n"
   ]
  },
  {
   "cell_type": "raw",
   "id": "9c680bd9-c08b-4be7-bdf6-40d6d0f59d97",
   "metadata": {},
   "source": [
    "Q.8. Explain the mutable and immutable data types with proper explanation & examples.\n",
    "Ans.\n",
    "*Mutable Data Types\n",
    "    - Values can be modified after creation.\n",
    "    - Examples: Lists, dictionaries, sets.\n",
    "*Immutable Data Types\n",
    "    - Values cannot be modified after creation.\n",
    "    - If we try to change it will give an error.\n",
    "    - Examples: Integers, floats, strings, tuples, frozensets."
   ]
  },
  {
   "cell_type": "code",
   "execution_count": 6,
   "id": "22ca1f5a-2a05-4490-908f-767e4f6bfc90",
   "metadata": {},
   "outputs": [
    {
     "data": {
      "text/plain": [
       "[1, 2, 99, 4]"
      ]
     },
     "execution_count": 6,
     "metadata": {},
     "output_type": "execute_result"
    }
   ],
   "source": [
    "# mutable data types\n",
    "list1 = [1,2,3,4]\n",
    "list1[2] = 99\n",
    "list1"
   ]
  },
  {
   "cell_type": "code",
   "execution_count": 7,
   "id": "6d77c94c-f7fe-460e-b9c6-39d589395f49",
   "metadata": {},
   "outputs": [
    {
     "ename": "TypeError",
     "evalue": "'tuple' object does not support item assignment",
     "output_type": "error",
     "traceback": [
      "\u001b[1;31m---------------------------------------------------------------------------\u001b[0m",
      "\u001b[1;31mTypeError\u001b[0m                                 Traceback (most recent call last)",
      "Cell \u001b[1;32mIn[7], line 3\u001b[0m\n\u001b[0;32m      1\u001b[0m \u001b[38;5;66;03m#immutable data type\u001b[39;00m\n\u001b[0;32m      2\u001b[0m tuple1 \u001b[38;5;241m=\u001b[39m (\u001b[38;5;241m1\u001b[39m,\u001b[38;5;241m2\u001b[39m,\u001b[38;5;241m3\u001b[39m,\u001b[38;5;241m4\u001b[39m)\n\u001b[1;32m----> 3\u001b[0m tuple1[\u001b[38;5;241m2\u001b[39m] \u001b[38;5;241m=\u001b[39m \u001b[38;5;241m99\u001b[39m\n\u001b[0;32m      4\u001b[0m tuple1\n",
      "\u001b[1;31mTypeError\u001b[0m: 'tuple' object does not support item assignment"
     ]
    }
   ],
   "source": [
    "#immutable data type\n",
    "tuple1 = (1,2,3,4)\n",
    "tuple1[2] = 99\n",
    "tuple1"
   ]
  },
  {
   "cell_type": "raw",
   "id": "5477c1b8-2b02-4776-a714-b80691532823",
   "metadata": {},
   "source": [
    "\n",
    "Q.9. Write a code to create the given structure using only for loop.\n",
    "    *\n",
    "   ***\n",
    "  *****\n",
    " *******\n",
    "*********\n",
    "Ans."
   ]
  },
  {
   "cell_type": "code",
   "execution_count": null,
   "id": "0f422e81-9f3f-439f-a6d5-851e704fff93",
   "metadata": {},
   "outputs": [],
   "source": [
    "n=5\n",
    "for i in range(n):\n",
    "    print(\" \" * (n - i - 1) + \"*\" * (2 * i + 1))"
   ]
  },
  {
   "cell_type": "raw",
   "id": "840e4625-6e72-44b8-9ed8-f18866ca7d82",
   "metadata": {},
   "source": [
    "\n",
    "Q.10. Write a code to create the given structure using while loop.\n",
    "|||||||||\n",
    " |||||||\n",
    "  |||||\n",
    "   |||\n",
    "    |\n",
    "Ans."
   ]
  },
  {
   "cell_type": "code",
   "execution_count": 8,
   "id": "b8e9db86-87b3-4387-bd8c-5e8a2303101f",
   "metadata": {},
   "outputs": [
    {
     "name": "stdout",
     "output_type": "stream",
     "text": [
      "|||||||||\n",
      " |||||||\n",
      "  |||||\n",
      "   |||\n",
      "    |\n"
     ]
    }
   ],
   "source": [
    "n = 5\n",
    "i = 0\n",
    "while i < n:\n",
    "    print(\" \" * i + \"|\" * (2 * (n - i) - 1))\n",
    "    i += 1"
   ]
  },
  {
   "cell_type": "raw",
   "id": "a34caf14-8114-44e5-a585-c5635c46bd4b",
   "metadata": {},
   "source": []
  }
 ],
 "metadata": {
  "kernelspec": {
   "display_name": "Python 3 (ipykernel)",
   "language": "python",
   "name": "python3"
  },
  "language_info": {
   "codemirror_mode": {
    "name": "ipython",
    "version": 3
   },
   "file_extension": ".py",
   "mimetype": "text/x-python",
   "name": "python",
   "nbconvert_exporter": "python",
   "pygments_lexer": "ipython3",
   "version": "3.11.7"
  }
 },
 "nbformat": 4,
 "nbformat_minor": 5
}
