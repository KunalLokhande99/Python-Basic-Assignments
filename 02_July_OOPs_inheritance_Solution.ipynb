{
 "cells": [
  {
   "cell_type": "raw",
   "id": "06d1f3e3-f2c5-4b05-8ec4-d2b716f9fb6e",
   "metadata": {},
   "source": [
    "# 02_July_OOPs_inheritance_Solution"
   ]
  },
  {
   "cell_type": "raw",
   "id": "76143012-ad74-43e1-b695-9eb5dd8c443a",
   "metadata": {},
   "source": [
    "1. Explain what inheritance is in object-oriented programming and why it is used.\n",
    "Ans.\n",
    "    - Inheritance is a fundamental concept in OOP where a class called \"child class\" derived from another class called \"parent class.\" \n",
    "    - This creates a hierarchy where child class inherits properties from the parent class.\n",
    "    - Allows child class to reuse the code and functionality defined in the parent class.\n",
    "    - Allows to use objects of different child classes through a common parent class interface.\n",
    "    - Helps to create a more abstract design, modular and maintainable code..\n",
    "    - Promotes encapsulation by allowing parent classes to define public interface, keeping internal working hidden.\n",
    "    - Defines general classes that contain common functionality and create more specialized classes with additional features.\n"
   ]
  },
  {
   "cell_type": "raw",
   "id": "101bdc16-33ea-4b8e-bb30-284cad94b937",
   "metadata": {},
   "source": [
    "\n",
    "2. Discuss the concept of single inheritance and multiple inheritance, highlighting their differences and advantages.\n",
    "Ans.\n",
    "*single inheritance\n",
    "    - In single inheritance child class can inherit from only one parent class. \n",
    "    - This approach creates a simple and clear hierarchy of classes.\n",
    "    - creates a straightforward structure reducing complexity and ambiguity.\n",
    "    - As child class has only one parent, there is no confusion which parent class's properties are inherited.\n",
    "    - Code is easier to maintain because the class hierarchy is more predictable.\n",
    "    - Single Inheritance is simple, clear, and easier to maintain but may limit flexibility in some cases.\n",
    "    \n",
    "*multiple inheritance\n",
    "    - In multiple inheritance child class can inherit from more than one parent class.\n",
    "    - This allows a class to combine characteristics from several different sources.\n",
    "    - It allows a class to inherit from multiple sources enabling more complex and adaptable designs.\n",
    "    - Mimics Real-world Scenarios, some real-world concepts naturally fit with multiple inheritance.\n",
    "    - Multiple Inheritance offers flexibility and the ability to combine features from different classes,\n",
    "      but it introduces complexity and the potential for ambiguity.\n"
   ]
  },
  {
   "cell_type": "markdown",
   "id": "83bb6d40-c151-43d4-9fb6-2816dac79dce",
   "metadata": {},
   "source": [
    "\n",
    "3. Explain the terms \"base class\" and \"derived class\" in the context of inheritance.\n",
    "Ans.\n",
    "*Base Class\n",
    "    - A base class is a class from which other classes derive, providing shared properties and behaviors.\n",
    "    - It serves as a blueprint for derived classes offering general functionality and structure.\n",
    "    - The purpose of a base class is to facilitate code reuse and establish common interface for related classes.\n",
    "Derived Class\n",
    "    - A derived class is a class that inherits from a base class, extending or modifying its behavior.\n",
    "    - It extends the base class, adding new properties or overriding inherited methods for specialization.\n",
    "    - Derived classes enable code reuse while allowing for customized or specific behavior without redundancy."
   ]
  },
  {
   "cell_type": "code",
   "execution_count": 1,
   "id": "4edcc262-d5ff-4b1a-b069-d20f09848ca9",
   "metadata": {},
   "outputs": [],
   "source": [
    "# base class\n",
    "class Person:\n",
    "    def __init__(self,name):\n",
    "        self.name=name\n",
    "\n",
    "    def display_info(self):\n",
    "        print(f\"Name is : {self.name}\")"
   ]
  },
  {
   "cell_type": "code",
   "execution_count": 2,
   "id": "61d48ca0-d93d-448f-9e39-bbcef152c135",
   "metadata": {},
   "outputs": [],
   "source": [
    "#Derived class\n",
    "class Teacher(Person):\n",
    "    def __init__(self,name,subject):\n",
    "        super().__init__(name)\n",
    "        self.subject=subject\n",
    "\n",
    "    def display_info(self):\n",
    "        super().display_info()\n",
    "        print(f\"Subject:{self.subject}\")"
   ]
  },
  {
   "cell_type": "code",
   "execution_count": 3,
   "id": "c572a4f7-b670-4e40-b7b7-a0bbff8a7b8a",
   "metadata": {},
   "outputs": [
    {
     "name": "stdout",
     "output_type": "stream",
     "text": [
      "Name is : Krish\n",
      "Subject:AI\n"
     ]
    }
   ],
   "source": [
    "teacher1=Teacher(\"Krish\",\"AI\")\n",
    "teacher1.display_info()"
   ]
  },
  {
   "cell_type": "raw",
   "id": "5f10f888-ebb1-46e5-be28-9fd8e3c1138e",
   "metadata": {},
   "source": [
    "\n",
    "4. What is the significance of the \"protected\" access modifier in inheritance? How does\n",
    "it differ from \"private\" and \"public\" modifiers?\n",
    "Ans.\n",
    "*Protected Access Modifier\n",
    "    - Allows derived classes to access inherited members while restricting access from outside the class hierarchy.\n",
    "    - Provides a balance between encapsulation and inheritance, lets derived classes interact with base class members.\n",
    "    - Single underscore (_) indicates a protected member, accessible within the class and derived classes.\n",
    "*Private Access Modifier\n",
    "    - Restricts access to class members, allowing access only within the class itself.\n",
    "    - Private members are hidden from derived classes.\n",
    "    - Double underscore (__) indicates a private member that is not accessible outside the class.\n",
    "*Public Access Modifier\n",
    "    - Allows class members to be accessed from anywhere, including class and by derived classes.\n",
    "    - Public members have no restrictions to access, offering the greatest flexibility.\n",
    "    - Public members are those without underscores, indicates they are accessible everywhere."
   ]
  },
  {
   "cell_type": "code",
   "execution_count": 4,
   "id": "f6582ea8-ab77-4efb-97f7-35535b16ccaf",
   "metadata": {},
   "outputs": [],
   "source": [
    "# public\n",
    "class Student:\n",
    "  def __init__(self,name,roll):\n",
    "    self.name=name\n",
    "    self.roll=roll\n",
    "\n",
    "# protected \n",
    "class Student:\n",
    "  def __init__(self,name,roll):\n",
    "    self._name=name\n",
    "    self._roll=roll\n",
    "\n",
    "# private \n",
    "class Student:\n",
    "  def __init__(self,name,roll):\n",
    "    self.__name=name\n",
    "    self.__roll=roll"
   ]
  },
  {
   "cell_type": "raw",
   "id": "da8519db-2ca9-4b16-9b29-8fd15da5d651",
   "metadata": {},
   "source": [
    "\n",
    "5. What is the purpose of the \"super\" keyword in inheritance? Provide an example.\n",
    "Ans.\n",
    "The super() keyword in object-oriented programming is used to refer to the parent class. \n",
    "Allows access to parent class properties, methods, and constructors within a derived class. \n",
    "Super keyword is used to ensure that derived classes can utilize the functionality of base class.\n"
   ]
  },
  {
   "cell_type": "code",
   "execution_count": 5,
   "id": "89ee0baf-a9f5-45a5-be49-f8747d934cda",
   "metadata": {},
   "outputs": [],
   "source": [
    "class Person:\n",
    "    def __init__(self,name):\n",
    "        self.name=name\n",
    "    def display_info(self):\n",
    "        print(f\"Name is : {self.name}\")\n",
    "\n",
    "class Teacher(Person):\n",
    "    def __init__(self,name):\n",
    "        super().__init__(name)\n",
    "    def display_info(self):\n",
    "        super().display_info()"
   ]
  },
  {
   "cell_type": "code",
   "execution_count": 6,
   "id": "9b436f71-68f2-4359-9d8b-6914976d851b",
   "metadata": {},
   "outputs": [
    {
     "name": "stdout",
     "output_type": "stream",
     "text": [
      "Name is : Krish\n"
     ]
    }
   ],
   "source": [
    "teacher1=Teacher(\"Krish\")\n",
    "teacher1.display_info()"
   ]
  },
  {
   "cell_type": "raw",
   "id": "4ce01a95-d8d9-4e0c-ba26-2854eba3f3c8",
   "metadata": {},
   "source": [
    "\n",
    "6. Create a base class called \"Vehicle\" with attributes like \"make\", \"model\", and \"year\".\n",
    "Then, create a derived class called \"Car\" that inherits from \"Vehicle\" and adds an\n",
    "attribute called \"fuel_type\". Implement appropriate methods in both classes.\n",
    "Ans."
   ]
  },
  {
   "cell_type": "code",
   "execution_count": 7,
   "id": "8549589e-9912-4d00-b881-cd63d3f52a31",
   "metadata": {},
   "outputs": [],
   "source": [
    "class Vehicle:\n",
    "    def __init__(self, make, model, year):\n",
    "        self.make=make\n",
    "        self.model=model\n",
    "        self.year=year\n",
    "\n",
    "    def display_info(self):\n",
    "       print(f\"Your {self.make} {self.model} {self.year} is ready to go\")"
   ]
  },
  {
   "cell_type": "code",
   "execution_count": 8,
   "id": "0b553545-3b29-4f35-aec8-e330dea0b0f9",
   "metadata": {},
   "outputs": [],
   "source": [
    "class Car(Vehicle):\n",
    "    def __init__(self, make, model, year, fuel_type):\n",
    "        super().__init__(make, model, year)\n",
    "        self.fuel_type=fuel_type\n",
    "        \n",
    "    def display_info(self):\n",
    "        super().display_info()\n",
    "        print(f\"Propelled by {self.fuel_type}\")"
   ]
  },
  {
   "cell_type": "code",
   "execution_count": 9,
   "id": "ac8770ad-e887-4553-92dc-a3e76ba8f162",
   "metadata": {},
   "outputs": [
    {
     "name": "stdout",
     "output_type": "stream",
     "text": [
      "Your Tata Harrier 2024 is ready to go\n",
      "Propelled by Diesel\n"
     ]
    }
   ],
   "source": [
    "car1 = Car('Tata', 'Harrier', 2024, 'Diesel')\n",
    "car1.display_info()"
   ]
  },
  {
   "cell_type": "raw",
   "id": "a213759f-5c49-4e82-9b8e-31c8830726da",
   "metadata": {},
   "source": []
  },
  {
   "cell_type": "raw",
   "id": "240fc2eb-d167-464e-889d-78872f51d11d",
   "metadata": {},
   "source": [
    "\n",
    "7. Create a base class called \"Employee\" with attributes like \"name\" and \"salary.\"\n",
    "Derive two classes, \"Manager\" and \"Developer,\" from \"Employee.\" Add an additional\n",
    "attribute called \"department\" for the \"Manager\" class and \"programming_language\"\n",
    "for the \"Developer\" class.\n",
    "Ans."
   ]
  },
  {
   "cell_type": "code",
   "execution_count": 10,
   "id": "2e058f26-3767-4b4b-8f3c-ee5af3deae53",
   "metadata": {},
   "outputs": [],
   "source": [
    "class Employee:\n",
    "    def __init__(self, name, salary):\n",
    "        self.name=name\n",
    "        self.salary=salary\n",
    "\n",
    "    def display_info(self):\n",
    "        print(f\"Employee name : {self.name} and Salary : {self.salary}\")"
   ]
  },
  {
   "cell_type": "code",
   "execution_count": 11,
   "id": "e38564a3-d074-4baf-8739-6885c379ed21",
   "metadata": {},
   "outputs": [],
   "source": [
    "class Manager(Employee):\n",
    "    def __init__(self,name, salary, department):\n",
    "        super().__init__(name, salary)\n",
    "        self.department=department\n",
    "\n",
    "    def display_info(self):\n",
    "        super().display_info()\n",
    "        print(f\"Manager of {self.department} department\")"
   ]
  },
  {
   "cell_type": "code",
   "execution_count": 12,
   "id": "2779c0ff-dbbf-4027-b1ab-b0993549af48",
   "metadata": {},
   "outputs": [
    {
     "name": "stdout",
     "output_type": "stream",
     "text": [
      "Employee name : Krish and Salary : 1cr\n",
      "Manager of AI department\n"
     ]
    }
   ],
   "source": [
    "employee1=Manager('Krish', '1cr','AI')\n",
    "employee1.display_info()"
   ]
  },
  {
   "cell_type": "code",
   "execution_count": 13,
   "id": "fda47334-1c9d-4097-97a0-dd2c9fdae12e",
   "metadata": {},
   "outputs": [],
   "source": [
    "class Developer(Employee):\n",
    "    def __init__(self,name, salary, pro_lang):\n",
    "        super().__init__(name, salary)\n",
    "        self.pro_lang=pro_lang\n",
    "\n",
    "    def display_info(self):\n",
    "        super().display_info()\n",
    "        print(f\"Developer of {self.pro_lang} programming language\")"
   ]
  },
  {
   "cell_type": "code",
   "execution_count": 14,
   "id": "cd8b197f-2926-4615-849c-301353964da4",
   "metadata": {},
   "outputs": [
    {
     "name": "stdout",
     "output_type": "stream",
     "text": [
      "Employee name : Krish and Salary : 1cr\n",
      "Developer of Python programming language\n"
     ]
    }
   ],
   "source": [
    "employee2=Developer('Krish', '1cr','Python')\n",
    "employee2.display_info()"
   ]
  },
  {
   "cell_type": "raw",
   "id": "df49f64b-352b-4eeb-af46-fa4c2f098cef",
   "metadata": {},
   "source": []
  },
  {
   "cell_type": "raw",
   "id": "f7199d60-37b0-4890-8a36-8e7e36947a73",
   "metadata": {},
   "source": [
    "\n",
    "8. Design a base class called \"Shape\" with attributes like \"colour\" and \"border_width.\"\n",
    "Create derived classes, \"Rectangle\" and \"Circle,\" that inherit from \"Shape\" and add\n",
    "specific attributes like \"length\" and \"width\" for the \"Rectangle\" class and \"radius\" for\n",
    "the \"Circle\" class.\n",
    "Ans."
   ]
  },
  {
   "cell_type": "code",
   "execution_count": 15,
   "id": "1018f98f-68ba-4600-bc7a-dd843ee0735b",
   "metadata": {},
   "outputs": [],
   "source": [
    "class Shape:\n",
    "    def __init__(self, colour, border_width):\n",
    "        self.colour=colour\n",
    "        self.border_width=border_width\n",
    "\n",
    "    def display_info(self):\n",
    "        print(f\"colour : {self.colour} and border width : {self.border_width}\")"
   ]
  },
  {
   "cell_type": "code",
   "execution_count": 16,
   "id": "cd5e075a-b7db-4bed-a1a2-675ebf0a6053",
   "metadata": {},
   "outputs": [],
   "source": [
    "class Rectangle(Shape):\n",
    "    def __init__(self,colour, border_width, length, width):\n",
    "        super().__init__(colour, border_width)\n",
    "        self.length=length\n",
    "        self.width=width\n",
    "\n",
    "    def display_info(self):\n",
    "        super().display_info()\n",
    "        print(f\"Rectangle of length {self.length} and width {self.width}\")"
   ]
  },
  {
   "cell_type": "code",
   "execution_count": 17,
   "id": "f16fafc1-e7b3-4be0-be74-9dd0ce05911d",
   "metadata": {},
   "outputs": [
    {
     "name": "stdout",
     "output_type": "stream",
     "text": [
      "colour : orange and border width : 6\n",
      "Rectangle of length 100 and width 40\n"
     ]
    }
   ],
   "source": [
    "shape1 = Rectangle('orange', 6, 100, 40)\n",
    "shape1.display_info()"
   ]
  },
  {
   "cell_type": "code",
   "execution_count": 18,
   "id": "836fbcf9-d8e5-493d-b208-c25eee7e8c6f",
   "metadata": {},
   "outputs": [],
   "source": [
    "class Circle(Shape):\n",
    "    def __init__(self,colour, border_width, radius):\n",
    "        super().__init__(colour, border_width)\n",
    "        self.radius=radius\n",
    "\n",
    "    def display_info(self):\n",
    "        super().display_info()\n",
    "        print(f\"Shape is Circle of radius {self.radius}\")"
   ]
  },
  {
   "cell_type": "code",
   "execution_count": 19,
   "id": "497f1f34-0872-4ca0-8698-14abfec8010b",
   "metadata": {},
   "outputs": [
    {
     "name": "stdout",
     "output_type": "stream",
     "text": [
      "colour : orange and border width : 6\n",
      "Shape is Circle of radius 100\n"
     ]
    }
   ],
   "source": [
    "shape1 = Circle('orange', 6, 100)\n",
    "shape1.display_info()"
   ]
  },
  {
   "cell_type": "raw",
   "id": "57a4059f-402e-48a6-a762-e61ac3e93767",
   "metadata": {},
   "source": []
  },
  {
   "cell_type": "raw",
   "id": "c1559fcb-d691-43a7-8ea3-e758a91f0fa9",
   "metadata": {},
   "source": [
    "9. Create a base class called \"Device\" with attributes like \"brand\" and \"model.\" Derive\n",
    "two classes, \"Phone\" and \"Tablet,\" from \"Device.\" Add specific attributes like\n",
    "\"screen_size\" for the \"Phone\" class and \"battery_capacity\" for the \"Tablet\" class.\n",
    "Ans."
   ]
  },
  {
   "cell_type": "code",
   "execution_count": 20,
   "id": "73e81bc0-1330-4ab8-9379-239ca5d48c6a",
   "metadata": {},
   "outputs": [],
   "source": [
    "class Device:\n",
    "    def __init__(self, brand, model):\n",
    "        self.brand=brand\n",
    "        self.model=model\n",
    "\n",
    "    def display_info(self):\n",
    "        print(f\"Brand : {self.brand} and Model : {self.model}\")"
   ]
  },
  {
   "cell_type": "code",
   "execution_count": 21,
   "id": "b0f917ef-0cee-46a4-ad56-75c6e48385a5",
   "metadata": {},
   "outputs": [],
   "source": [
    "class Phone(Device):\n",
    "    def __init__(self, brand, model, screen_size):\n",
    "        super().__init__(brand, model)\n",
    "        self.screen_size=screen_size\n",
    "\n",
    "    def display_info(self):\n",
    "        super().display_info()\n",
    "        print(f\"Device is Phone with screen size {self.screen_size}\")"
   ]
  },
  {
   "cell_type": "code",
   "execution_count": 22,
   "id": "38cd7145-d21b-4884-b473-44e1b6628b95",
   "metadata": {},
   "outputs": [
    {
     "name": "stdout",
     "output_type": "stream",
     "text": [
      "Brand : Samsung and Model : Galaxy S23\n",
      "Device is Phone with screen size 6.7 inch\n"
     ]
    }
   ],
   "source": [
    "device1 = Phone('Samsung', 'Galaxy S23', '6.7 inch')\n",
    "device1.display_info()"
   ]
  },
  {
   "cell_type": "code",
   "execution_count": 23,
   "id": "dbe53e72-8e3e-4ca3-8d3f-13fefbcd50d5",
   "metadata": {},
   "outputs": [],
   "source": [
    "class Tablet(Device):\n",
    "    def __init__(self, brand, model, battery_capacity):\n",
    "        super().__init__(brand, model)\n",
    "        self.battery_capacity=battery_capacity\n",
    "\n",
    "    def display_info(self):\n",
    "        super().display_info()\n",
    "        print(f\"Device is Tablet with battery_capacity {self.battery_capacity}\")"
   ]
  },
  {
   "cell_type": "code",
   "execution_count": 24,
   "id": "1ed79fec-3a6d-4ee6-8389-4b6e07685a1f",
   "metadata": {},
   "outputs": [
    {
     "name": "stdout",
     "output_type": "stream",
     "text": [
      "Brand : Samsung and Model : Galaxy S23\n",
      "Device is Phone with screen size 6000 mah\n"
     ]
    }
   ],
   "source": [
    "device2 = Phone('Samsung', 'Galaxy S23', '6000 mah')\n",
    "device2.display_info()"
   ]
  },
  {
   "cell_type": "raw",
   "id": "9ef5a673-2f13-4052-93ac-e0beaa73faf5",
   "metadata": {},
   "source": []
  },
  {
   "cell_type": "raw",
   "id": "15d2fceb-d2cd-4944-9a23-cfacac84152c",
   "metadata": {},
   "source": [
    "10. Create a base class called \"BankAccount\" with attributes like \"account_number\" and\n",
    "\"balance.\" Derive two classes, \"SavingsAccount\" and \"CheckingAccount,\" from\n",
    "\"BankAccount.\" Add specific methods like \"calculate_interest\" for the\n",
    "\"SavingsAccount\" class and \"deduct_fees\" for the \"CheckingAccount\" class.\n",
    "Ans."
   ]
  },
  {
   "cell_type": "code",
   "execution_count": 25,
   "id": "487f75bc-1048-428f-83d7-58ff9fd69cac",
   "metadata": {},
   "outputs": [],
   "source": [
    "class BankAccount:\n",
    "    def __init__ (self, account_no, balance=0):\n",
    "        self.account_no = account_no\n",
    "        self.balance = balance\n",
    "        \n",
    "    def display_info(self):\n",
    "        print( f\" Account number : {self.account_no} and Balance : {self.balance}\")"
   ]
  },
  {
   "cell_type": "code",
   "execution_count": 26,
   "id": "32929149-ac0f-40cd-badf-9182bce14951",
   "metadata": {},
   "outputs": [],
   "source": [
    "class SavingsAccount(BankAccount):\n",
    "    def __init__(self, account_no, balance=0):\n",
    "        super().__init__(account_no, balance)\n",
    "        \n",
    "    def calculate_interest(self, interest_rate=0.06):\n",
    "        self.interest_rate=interest_rate\n",
    "        interest_amount = self.balance * self.interest_rate\n",
    "        return interest_amount\n",
    "        \n",
    "    def new_balance(self):\n",
    "        return self.balance + self.calculate_interest()\n",
    "    \n",
    "    def display_info(self):\n",
    "        super().display_info()\n",
    "        print( f\" Your interest amount : {self.calculate_interest()} \\n your New balance : {self.new_balance()}\")"
   ]
  },
  {
   "cell_type": "code",
   "execution_count": 27,
   "id": "5d5e1d59-ca90-4c48-8bd0-efc31385096c",
   "metadata": {},
   "outputs": [
    {
     "name": "stdout",
     "output_type": "stream",
     "text": [
      " Account number : 606 and Balance : 600\n",
      " Your interest amount : 36.0 \n",
      " your New balance : 636.0\n"
     ]
    }
   ],
   "source": [
    "account1 = SavingsAccount(606, 600)\n",
    "account1.display_info()"
   ]
  },
  {
   "cell_type": "code",
   "execution_count": 28,
   "id": "c60d91a7-e389-43a0-baef-bd56cc10bc81",
   "metadata": {},
   "outputs": [],
   "source": [
    "class CheckingAccount(BankAccount):\n",
    "    def __init__(self, account_no, balance=0):\n",
    "        super().__init__(account_no, balance)\n",
    "\n",
    "    def deduct_fees(self, deduction_rate=0.001):\n",
    "        self.deduction_rate=deduction_rate\n",
    "        deduction_amount = self.balance * self.deduction_rate\n",
    "        return deduction_amount\n",
    "\n",
    "    def new_balance(self):\n",
    "        return self.balance - self.deduct_fees()\n",
    "    \n",
    "    def display_info(self):\n",
    "        super().display_info()\n",
    "        print( f\" Your deduction amount : {self.deduct_fees()} \\n your New balance : {self.new_balance()}\")"
   ]
  },
  {
   "cell_type": "code",
   "execution_count": 29,
   "id": "a43ac6cc-0829-4d34-80c8-8c0688d36d12",
   "metadata": {},
   "outputs": [
    {
     "name": "stdout",
     "output_type": "stream",
     "text": [
      " Account number : 606 and Balance : 600\n",
      " Your deduction amount : 0.6 \n",
      " your New balance : 599.4\n"
     ]
    }
   ],
   "source": [
    "account2 = CheckingAccount(606, 600)\n",
    "account2.display_info()"
   ]
  },
  {
   "cell_type": "raw",
   "id": "2fcf7aea-a557-46b9-925d-26e58b671c2e",
   "metadata": {},
   "source": []
  }
 ],
 "metadata": {
  "kernelspec": {
   "display_name": "Python 3 (ipykernel)",
   "language": "python",
   "name": "python3"
  },
  "language_info": {
   "codemirror_mode": {
    "name": "ipython",
    "version": 3
   },
   "file_extension": ".py",
   "mimetype": "text/x-python",
   "name": "python",
   "nbconvert_exporter": "python",
   "pygments_lexer": "ipython3",
   "version": "3.11.7"
  }
 },
 "nbformat": 4,
 "nbformat_minor": 5
}
