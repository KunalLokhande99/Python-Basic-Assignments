{
 "cells": [
  {
   "cell_type": "raw",
   "id": "be47c15e-ba4b-459f-ab3a-a818e47b443d",
   "metadata": {},
   "source": [
    "# Assignment_01_Solution"
   ]
  },
  {
   "cell_type": "raw",
   "id": "50a4c233-effb-41b6-b5f1-10858429ba9f",
   "metadata": {},
   "source": [
    "1. In the below elements which of them are values or an expression? eg:- values can be \n",
    "integer or string and expressions will be mathematical operators.\n",
    "* \n",
    "'hello'\n",
    "-87.8\n",
    "- / \n",
    "+\n",
    "6\n",
    "Ans. values : 'hello' , -87.8 , 6\n",
    "     expressions : -  /  +"
   ]
  },
  {
   "cell_type": "raw",
   "id": "454e2a59-3175-4637-8772-9d2efba208ce",
   "metadata": {},
   "source": [
    "2. What is the difference between string and variable?\n",
    "Ans.\n",
    "* Best_Teacher : \"Krish_Naik\"\n",
    "\n",
    "*String:\n",
    "    - consider the above example, \"Krish_Naik\" is String.\n",
    "    - String represents textual data.\n",
    "    - It consists of a sequence of characters (letters, numbers, symbols).\n",
    "    - It is enclosed within single (' ') or double (\" \") quotation marks.\n",
    "\n",
    "*Variable:\n",
    "    - In above example Best_Teacher is Variable.\n",
    "    - Variable is named storage location in computer memory.\n",
    "    - It holds a value of a particular data type.\n",
    "    - It can store various types of data, including strings."
   ]
  },
  {
   "cell_type": "raw",
   "id": "0ad55c0b-3094-4844-b05e-5287b5b090a5",
   "metadata": {},
   "source": [
    "3. Describe three different data types.\n",
    "Ans.\n",
    "\n",
    "*Integer\n",
    "   - It represents whole numbers, positive as well as negative, without any decimal points.\n",
    "   - Examples: -1,-2, 3, 4,...\n",
    "   - Used for simple operations like counting, indexing.\n",
    "\n",
    "*Float\n",
    "   - It represents numbers with decimal points or exponential numbers.\n",
    "   - Examples: -1.0,-2.2, 3.33, 4.4,...\n",
    "   - Used for calculations where decimal precision is required, like complex operations.\n",
    "\n",
    "*Boolean\n",
    "   - It represents logical values indicating either true or false.\n",
    "   - Examples: True, False.\n",
    "   - Used in conditional statements and logical operations to control the flow of a program."
   ]
  },
  {
   "cell_type": "raw",
   "id": "5454b0bf-9acc-4e94-be4f-96a06bcf44fc",
   "metadata": {},
   "source": [
    "4. What is an expression made up of? What do all expressions do?\n",
    "Ans. \n",
    "An Expression is made of Operators and Operands\n",
    "    \n",
    "*Operators:\n",
    "    - Operators are symbols or keywords that perform actions on operands.\n",
    "    - They tells how the operands are manipulated or used.\n",
    "    - Examples: add : +, subtract : -, multiply : *, divide : /,....\n",
    "\n",
    "*Operands:\n",
    "    - Operands are the building blocks of an expressions.\n",
    "    - They can be values, variables, or more complex data structures.\n",
    "    - Examples: numbers : 0,6,.. strings : \"Krish_Naik\", variables : x, y,..."
   ]
  },
  {
   "cell_type": "raw",
   "id": "f88d64c6-e85d-4830-a514-998aa5705842",
   "metadata": {},
   "source": [
    "5. This assignment statements, like spam = 10. What is the difference between an \n",
    "expression and a statement?\n",
    "Ans.\n",
    "\n",
    "*Expression\n",
    "    - Expressions are combinations of values, variables, operators, or function calls that produce single value.\n",
    "    - They can be simple like a variable or complex involving multiple operations.\n",
    "    - Expressions are often used for calculations, comparisons, and producing results.\n",
    "    - Examples: 0+6 gives 6\n",
    "\n",
    "*Statement\n",
    "    - Statements are set of instructions that perform operations within a program.\n",
    "    - They may include expressions but also involve control flow, declarations or assignments.\n",
    "    - Statements are building blocks of programs that defines the sequence of operations to be performed.\n",
    "    - Examples: spam = 10 stores the value 10"
   ]
  },
  {
   "cell_type": "raw",
   "id": "55ef2fcf-9307-4fcc-9c68-e62c5bb2e31e",
   "metadata": {},
   "source": [
    "6. After running the following code, what does the variable bacon contain?\n",
    "bacon = 22\n",
    "bacon + 1\n",
    "Ans. "
   ]
  },
  {
   "cell_type": "code",
   "execution_count": 3,
   "id": "e4ea33b3-b340-4de5-8a6f-08891ea51c98",
   "metadata": {},
   "outputs": [
    {
     "data": {
      "text/plain": [
       "23"
      ]
     },
     "execution_count": 3,
     "metadata": {},
     "output_type": "execute_result"
    }
   ],
   "source": [
    "bacon = 22\n",
    "bacon + 1"
   ]
  },
  {
   "cell_type": "raw",
   "id": "077df1bd-714a-43f7-875e-6af2beca81a6",
   "metadata": {},
   "source": [
    "7. What should the values of the following two terms be?\n",
    "'spam' + 'spamspam'\n",
    "'spam' * 3\n",
    "Ans."
   ]
  },
  {
   "cell_type": "code",
   "execution_count": 7,
   "id": "858e4be0-b98e-419a-9179-b2f956201c1a",
   "metadata": {},
   "outputs": [
    {
     "data": {
      "text/plain": [
       "'spamspamspam'"
      ]
     },
     "execution_count": 7,
     "metadata": {},
     "output_type": "execute_result"
    }
   ],
   "source": [
    "'spam' + 'spamspam'"
   ]
  },
  {
   "cell_type": "code",
   "execution_count": 8,
   "id": "3c0caf93-3781-4086-9740-54bff566798e",
   "metadata": {},
   "outputs": [
    {
     "data": {
      "text/plain": [
       "'spamspamspam'"
      ]
     },
     "execution_count": 8,
     "metadata": {},
     "output_type": "execute_result"
    }
   ],
   "source": [
    "'spam' * 3"
   ]
  },
  {
   "cell_type": "raw",
   "id": "59c4a818-83e2-4bfc-ac25-5f632f852261",
   "metadata": {},
   "source": [
    "8. Why is eggs a valid variable name while 100 is invalid?\n",
    "Ans.\n",
    "    - A variable name must start with a letter or the underscore character\n",
    "    - A variable name cannot start with a number\n",
    "    - A variable name can only contain alpha-numeric characters and underscores (A-z, 0-9, and _ )\n",
    "    - A Variable name is case-sensitive (age, Age and AGE are three different variables)\n",
    "    - A variable name cannot be any of the Python keywords.\n",
    "\n",
    "These are the rules defined by Guido Van Rossum to declare a pyton variable.\n",
    "hence eggs is a valid variable name while 100 is invalid."
   ]
  },
  {
   "cell_type": "raw",
   "id": "0c4f2181-a8b1-4f1f-9069-ef35f23a1a64",
   "metadata": {},
   "source": [
    "9. What three functions can be used to get the integer, floating-point number, or string \n",
    "version of a value?\n",
    "Ans.\n",
    "consider example of 6,"
   ]
  },
  {
   "cell_type": "code",
   "execution_count": 25,
   "id": "a43c41dd-f6c0-4e79-b8f0-02cc3d9aff82",
   "metadata": {},
   "outputs": [
    {
     "data": {
      "text/plain": [
       "6"
      ]
     },
     "execution_count": 25,
     "metadata": {},
     "output_type": "execute_result"
    }
   ],
   "source": [
    "int(6)"
   ]
  },
  {
   "cell_type": "code",
   "execution_count": 26,
   "id": "5600397e-143f-404b-a574-ae36316444ca",
   "metadata": {},
   "outputs": [
    {
     "data": {
      "text/plain": [
       "6.0"
      ]
     },
     "execution_count": 26,
     "metadata": {},
     "output_type": "execute_result"
    }
   ],
   "source": [
    "float(6)"
   ]
  },
  {
   "cell_type": "code",
   "execution_count": 27,
   "id": "65333898-2654-44fa-b441-608bfc3fa1e4",
   "metadata": {},
   "outputs": [
    {
     "data": {
      "text/plain": [
       "'6'"
      ]
     },
     "execution_count": 27,
     "metadata": {},
     "output_type": "execute_result"
    }
   ],
   "source": [
    "str(6)"
   ]
  },
  {
   "cell_type": "raw",
   "id": "34ddc22c-426f-4e81-a7c4-5dfaa4b6787c",
   "metadata": {},
   "source": [
    "10. Why does this expression cause an error? How can you fix it?\n",
    "'I have eaten ' + 99 + ' burritos.'\n",
    "Ans.\n",
    "    - Here data type of operands is not same ie str and int.\n",
    "    - so we have to convert int to string.\n",
    "    - if not done then python will throw TypeError."
   ]
  },
  {
   "cell_type": "code",
   "execution_count": 28,
   "id": "12aba3be-019b-4e7f-90ba-787636e90aea",
   "metadata": {},
   "outputs": [
    {
     "ename": "TypeError",
     "evalue": "can only concatenate str (not \"int\") to str",
     "output_type": "error",
     "traceback": [
      "\u001b[1;31m---------------------------------------------------------------------------\u001b[0m",
      "\u001b[1;31mTypeError\u001b[0m                                 Traceback (most recent call last)",
      "Cell \u001b[1;32mIn[28], line 1\u001b[0m\n\u001b[1;32m----> 1\u001b[0m \u001b[38;5;124m'\u001b[39m\u001b[38;5;124mI have eaten \u001b[39m\u001b[38;5;124m'\u001b[39m \u001b[38;5;241m+\u001b[39m \u001b[38;5;241m99\u001b[39m \u001b[38;5;241m+\u001b[39m \u001b[38;5;124m'\u001b[39m\u001b[38;5;124m burritos.\u001b[39m\u001b[38;5;124m'\u001b[39m\n",
      "\u001b[1;31mTypeError\u001b[0m: can only concatenate str (not \"int\") to str"
     ]
    }
   ],
   "source": [
    "'I have eaten ' + 99 + ' burritos.'"
   ]
  },
  {
   "cell_type": "code",
   "execution_count": 29,
   "id": "65ffbea4-2639-4433-90f2-e4766f160eaa",
   "metadata": {},
   "outputs": [
    {
     "data": {
      "text/plain": [
       "'I have eaten 99 burritos.'"
      ]
     },
     "execution_count": 29,
     "metadata": {},
     "output_type": "execute_result"
    }
   ],
   "source": [
    "'I have eaten ' + '99' + ' burritos.'"
   ]
  },
  {
   "cell_type": "raw",
   "id": "7a77de91-1d94-4ed2-868c-a97fe51d89df",
   "metadata": {},
   "source": []
  }
 ],
 "metadata": {
  "kernelspec": {
   "display_name": "Python 3 (ipykernel)",
   "language": "python",
   "name": "python3"
  },
  "language_info": {
   "codemirror_mode": {
    "name": "ipython",
    "version": 3
   },
   "file_extension": ".py",
   "mimetype": "text/x-python",
   "name": "python",
   "nbconvert_exporter": "python",
   "pygments_lexer": "ipython3",
   "version": "3.11.7"
  }
 },
 "nbformat": 4,
 "nbformat_minor": 5
}
