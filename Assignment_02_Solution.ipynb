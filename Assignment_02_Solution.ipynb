{
 "cells": [
  {
   "cell_type": "raw",
   "id": "e49b6419-b1e2-4819-af50-4a5cb9514e1a",
   "metadata": {},
   "source": [
    "# Assignment_02_Solution"
   ]
  },
  {
   "cell_type": "raw",
   "id": "7cccf655-e6a5-4d15-bbab-b9f4b736c4a3",
   "metadata": {},
   "source": [
    "1.What are the two values of the Boolean data type? How do you write them?\n",
    "Ans.\n",
    "*True\n",
    "    - Indicate that the given condition is correct and valid.\n",
    "    - Written as 'True', with 'T' in uppercase and other lowercase.\n",
    "    - Numerical value of True is equivalent to 1.\n",
    "\n",
    "*False\n",
    "    - Indicate that the given condition is not correct and invalid.\n",
    "    - Written as 'False', with 'F' in uppercase and other lowercase.\n",
    "    - Numerical value of False is equivalent to 0."
   ]
  },
  {
   "cell_type": "raw",
   "id": "f7207e4b-491d-472e-acad-920085a83cd8",
   "metadata": {},
   "source": [
    "2. What are the three different types of Boolean operators?\n",
    "Ans.\n",
    "*AND\n",
    "    - Indicate True if both the given conditions are correct.\n",
    "    - Written as 'AND', with all letters in uppercase.\n",
    "    - Numerical value of True is equivalent to 1.\n",
    "\n",
    "*OR\n",
    "    - Indicate True if one of the given condition is correct.\n",
    "    - Written as 'OR', with all letters in uppercase.\n",
    "    - Numerical value of True is equivalent to 0.\n",
    "\n",
    "*NOT\n",
    "    - Indicate True if the given condition is False.\n",
    "    - Written as 'NOT', with all letters uppercase.\n",
    "    - Numerical value of True is equivalent to 1."
   ]
  },
  {
   "cell_type": "raw",
   "id": "b0857414-8606-4eea-a87f-ca49dc99a353",
   "metadata": {},
   "source": [
    "3. Make a list of each Boolean operator's truth tables (i.e. every possible combination of Boolean \n",
    "values for the operator and what it evaluate ).\n",
    "Ans.\n",
    "\n",
    "*AND                      |    *OR                       |    *NOT\n",
    " 1     2   Result         |      1     2    Result       |     1   Result\n",
    "TRUE   TRUE   TRUE        |    TRUE   TRUE   TRUE        |    TRUE  FALSE\n",
    "TRUE   FALSE  FALSE       |    TRUE   FALSE  TRUE        |    FALSE TRUE\n",
    "FALSE  TRUE   FALSE       |    FALSE  TRUE   TRUE        |\n",
    "FALSE  FALSE  FALSE       |    FALSE  FALSE  FALSE       |\n"
   ]
  },
  {
   "cell_type": "markdown",
   "id": "f97511d0-5523-480c-a1aa-faf156b64ebe",
   "metadata": {},
   "source": [
    "4. What are the values of the following expressions?\n",
    "(5 > 4) and (3 == 5)\n",
    "not (5 > 4)\n",
    "(5 > 4) or (3 == 5)\n",
    "not ((5 > 4) or (3 == 5))\n",
    "(True and True) and (True == False)\n",
    "(not False) or (not True)\n",
    "Ans."
   ]
  },
  {
   "cell_type": "code",
   "execution_count": 1,
   "id": "157b3984-905f-4c57-a2a9-4f1d793172c8",
   "metadata": {},
   "outputs": [
    {
     "name": "stdout",
     "output_type": "stream",
     "text": [
      "False\n",
      "False\n",
      "True\n",
      "False\n",
      "False\n",
      "True\n"
     ]
    }
   ],
   "source": [
    "print((5 > 4) and (3 == 5))\n",
    "print(not (5 > 4))\n",
    "print((5 > 4) or (3 == 5))\n",
    "print(not ((5 > 4) or (3 == 5)))\n",
    "print((True and True) and (True == False))\n",
    "print((not False) or (not True))"
   ]
  },
  {
   "cell_type": "raw",
   "id": "e105cb87-b4d9-4048-b06f-2b8d0d3f5c2a",
   "metadata": {},
   "source": [
    "5. What are the six comparison operators?\n",
    "Ans.\n",
    "    - Equal to: ==\n",
    "    - Not equal to: !=\n",
    "    - Greater than: >\n",
    "    - Less than: <\n",
    "    - Greater than or equal to: >=\n",
    "    - Less than or equal to: <="
   ]
  },
  {
   "cell_type": "raw",
   "id": "2a2c5647-9a5c-41ee-9b67-c350d55b8df5",
   "metadata": {},
   "source": [
    "6. How do you tell the difference between the equal to and assignment operators?Describe a \n",
    "condition and when you would use one.\n",
    "Ans.\n",
    "*Equal to Operator\n",
    "    - Represented by == symbol\n",
    "    - Used to compare whether two values are equal or not.\n",
    "    - Returns True if the values are equal otherwise False.\n",
    "    - Example: x = 'Krish_Naik'\n",
    "               y = 'Krish_Naik'\n",
    "               x == y .....Returns 'True'\n",
    "*Assignment Operator\n",
    "    - Represented by = symbol\n",
    "    - Used to assign a value to a variable.\n",
    "    - Variable is written on left side while its value written on right side of operator.\n",
    "    - Example:  x = 'Krish_Naik'\n",
    "                print(x).....Returns 'Krish_Naik'"
   ]
  },
  {
   "cell_type": "raw",
   "id": "b979d205-96ae-41bb-9579-e83b9a357ae1",
   "metadata": {},
   "source": [
    "7. Identify the three blocks in this code:\n",
    "spam = 0\n",
    "if spam == 10:\n",
    "print('eggs')\n",
    "if spam > 5:\n",
    "print('bacon')\n",
    "else:\n",
    "print('ham')\n",
    "print('spam')\n",
    "print('spam')\n",
    "Ans."
   ]
  },
  {
   "cell_type": "code",
   "execution_count": 2,
   "id": "351fafdb-e079-4ae8-b6d9-690b3c6d1720",
   "metadata": {},
   "outputs": [
    {
     "name": "stdout",
     "output_type": "stream",
     "text": [
      "ham\n",
      "spam\n",
      "spam\n"
     ]
    }
   ],
   "source": [
    "spam = 0\n",
    "if spam == 10:\n",
    "    print('eggs')    # First Block - returns True(eggs) if condition(spam==10) is satisfied\n",
    "if spam > 5:\n",
    "    print('bacon')   # Second Block - returns True(bacon) if condition(spam==10) is satisfied\n",
    "else:\n",
    "    print('ham')     # Third Block - returns 'ham' if above two conditions are not satisfied\n",
    "    \n",
    "print('spam')        # Global Scope, unindented block or block outside the loop\n",
    "print('spam')        # Global Scope, unindented block or block outside the loop"
   ]
  },
  {
   "cell_type": "raw",
   "id": "3d11544d-2266-440d-8888-783ff6957a8e",
   "metadata": {},
   "source": [
    "8. Write code that prints Hello if 1 is stored in spam, prints Howdy if 2 is stored in spam, and prints \n",
    "Greetings! if anything else is stored in spam.\n",
    "Ans."
   ]
  },
  {
   "cell_type": "code",
   "execution_count": 3,
   "id": "9b1e41ec-4f40-49f0-bb09-53402e00df5b",
   "metadata": {},
   "outputs": [
    {
     "name": "stdout",
     "output_type": "stream",
     "text": [
      "Enter any number of Your choice between 0 to 9\n"
     ]
    },
    {
     "name": "stdin",
     "output_type": "stream",
     "text": [
      "your choice is :  1\n"
     ]
    },
    {
     "name": "stdout",
     "output_type": "stream",
     "text": [
      "Hello\n",
      "...This is Krish Naik's class...\n"
     ]
    }
   ],
   "source": [
    "print('Enter any number of Your choice between 0 to 9')\n",
    "spam = int(input('your choice is : '))\n",
    "\n",
    "if spam == 1:\n",
    "    print('Hello')\n",
    "elif spam == 2:\n",
    "    print('Howdy')\n",
    "else:\n",
    "    print('Greetings!')\n",
    "print(\"...This is Krish Naik's class...\")"
   ]
  },
  {
   "cell_type": "raw",
   "id": "4b4a5500-d584-42db-9d2b-482f80dfa265",
   "metadata": {},
   "source": [
    "9.If your programme is stuck in an endless loop, what keys you’ll press?\n",
    "Ans. ctrl + c"
   ]
  },
  {
   "cell_type": "raw",
   "id": "c220a0b5-4a92-40dd-bdfb-f05e76031f72",
   "metadata": {},
   "source": [
    "10. How can you tell the difference between break and continue?\n",
    "Ans.\n",
    "*Break\n",
    "    - Break statement is used to come out of the loop for certain condition by terminating (breaking) the entire loop.\n",
    "*Continue\n",
    "    - continue statement is used to skip the current iteration and follows executing (continues) the next iterations."
   ]
  },
  {
   "cell_type": "code",
   "execution_count": 4,
   "id": "ec444dd1-4e78-4586-87cb-b461008958e0",
   "metadata": {},
   "outputs": [
    {
     "name": "stdout",
     "output_type": "stream",
     "text": [
      "0\n",
      "1\n",
      "2\n"
     ]
    }
   ],
   "source": [
    "# Break statement\n",
    "for i in range (6):\n",
    "    if i == 3:\n",
    "        break\n",
    "    print(i)"
   ]
  },
  {
   "cell_type": "code",
   "execution_count": 5,
   "id": "a4ea92a1-b7cf-4b73-8509-3193b35a779a",
   "metadata": {},
   "outputs": [
    {
     "name": "stdout",
     "output_type": "stream",
     "text": [
      "0\n",
      "1\n",
      "2\n",
      "4\n",
      "5\n"
     ]
    }
   ],
   "source": [
    "# Continue statement\n",
    "for i in range (6):\n",
    "    if i == 3:\n",
    "        continue\n",
    "    print(i)"
   ]
  },
  {
   "cell_type": "raw",
   "id": "369fd27c-56b7-4f28-a02b-ba9d6353e57f",
   "metadata": {},
   "source": [
    "11. In a for loop, what is the difference between range(10), range(0, 10), and range(0, 10, 1)?\n",
    "Ans.\n",
    "    - Here is no difference between range(10), range(0, 10), range(0, 10, 1).\n",
    "    - But if the Values are differnt then there must be a difference in output.\n",
    "    - 0 is the start point if not given by default it takes 0, but we can change it.\n",
    "    - 10 is the endpoint it must be provided to ensure where exactly the loop stops.\n",
    "    - 1 is the step value ie values are printed from start to end with step of 1.\n",
    "    - we can change the step value as per our requirement."
   ]
  },
  {
   "cell_type": "code",
   "execution_count": 7,
   "id": "4996fe6e-259f-41df-a89b-43dbcf683cfe",
   "metadata": {},
   "outputs": [
    {
     "name": "stdout",
     "output_type": "stream",
     "text": [
      "0 1 2 3 4 5 6 7 8 9 \n",
      "0 1 2 3 4 5 6 7 8 9 \n",
      "0 1 2 3 4 5 6 7 8 9 "
     ]
    }
   ],
   "source": [
    "for i in range(10):\n",
    "    print(i, end = \" \")\n",
    "print()\n",
    "for i in range(0, 10):\n",
    "    print(i, end = \" \")\n",
    "print()\n",
    "for i in range(0, 10, 1):\n",
    "    print(i, end = \" \")"
   ]
  },
  {
   "cell_type": "code",
   "execution_count": 8,
   "id": "c4c4482d-a66c-405d-8013-162d056ebf98",
   "metadata": {},
   "outputs": [
    {
     "name": "stdout",
     "output_type": "stream",
     "text": [
      "0 1 2 3 4 5 6 7 8 9 \n",
      "3 4 5 6 7 8 9 \n",
      "0 2 4 6 8 "
     ]
    }
   ],
   "source": [
    "for i in range(10):          # used to start sequence from 0\n",
    "    print(i, end = \" \")\n",
    "print()\n",
    "for i in range(3, 10):       # used to start sequence from specific value, here it is 3\n",
    "    print(i, end = \" \")\n",
    "print()\n",
    "for i in range(0, 10, 2):    # used to add step value in sequence, here it is 2\n",
    "    print(i, end = \" \")"
   ]
  },
  {
   "cell_type": "raw",
   "id": "eb16e4c8-4ade-4537-add0-2bc7399490e8",
   "metadata": {},
   "source": [
    "12. Write a short program that prints the numbers 1 to 10 using a for loop. Then write an equivalent \n",
    "program that prints the numbers 1 to 10 using a while loop.\n",
    "Ans."
   ]
  },
  {
   "cell_type": "code",
   "execution_count": 9,
   "id": "19d93ade-d9e8-4dfa-bd4a-4324e28a6d9b",
   "metadata": {},
   "outputs": [
    {
     "name": "stdout",
     "output_type": "stream",
     "text": [
      "1 2 3 4 5 6 7 8 9 10 "
     ]
    }
   ],
   "source": [
    "# for loop\n",
    "for i in range(1,11):\n",
    "    print(i, end = \" \")"
   ]
  },
  {
   "cell_type": "code",
   "execution_count": 11,
   "id": "1d68dd4d-0a22-4dbe-9e31-2219bc69ed49",
   "metadata": {},
   "outputs": [
    {
     "name": "stdout",
     "output_type": "stream",
     "text": [
      "0 1 2 3 4 5 6 7 8 9 10 "
     ]
    }
   ],
   "source": [
    "i = 0\n",
    "while i<= 10:\n",
    "    print(i, end = \" \")\n",
    "    i += 1"
   ]
  },
  {
   "cell_type": "raw",
   "id": "10f8b69c-ba4d-495f-853f-5493f11d57f3",
   "metadata": {},
   "source": [
    "13. If you had a function named bacon() inside a module named spam, how would you call it after \n",
    "importing spam?\n",
    "Ans. from spam import bacon() ....using this simple command we are able to import bacon module."
   ]
  },
  {
   "cell_type": "raw",
   "id": "7bce0fd9-bcd3-4049-a4af-fb0437bf4b21",
   "metadata": {},
   "source": []
  }
 ],
 "metadata": {
  "kernelspec": {
   "display_name": "Python 3 (ipykernel)",
   "language": "python",
   "name": "python3"
  },
  "language_info": {
   "codemirror_mode": {
    "name": "ipython",
    "version": 3
   },
   "file_extension": ".py",
   "mimetype": "text/x-python",
   "name": "python",
   "nbconvert_exporter": "python",
   "pygments_lexer": "ipython3",
   "version": "3.11.7"
  }
 },
 "nbformat": 4,
 "nbformat_minor": 5
}
