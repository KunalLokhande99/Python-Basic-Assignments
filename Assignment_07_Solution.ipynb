{
 "cells": [
  {
   "cell_type": "raw",
   "id": "8f49ad86-5188-4501-9f01-42f06c0266bd",
   "metadata": {},
   "source": [
    "# Assignment_07_Solution"
   ]
  },
  {
   "cell_type": "raw",
   "id": "4253a40b-9629-4639-a260-fabaefe2628e",
   "metadata": {},
   "source": [
    "Q.1. Create two int type variables, apply addition, subtraction, division and multiplications\n",
    "and store the results in variables. Then print the data in the following format by calling the\n",
    "variables:\n",
    "First variable is __ & second variable is __.\n",
    "Addition: __ + __ = __\n",
    "Subtraction: __ - __ = __\n",
    "Multiplication: __ * __ = __\n",
    "Division: __ / __ = __\n",
    "Ans."
   ]
  },
  {
   "cell_type": "code",
   "execution_count": 1,
   "id": "11dc2b82-1ea3-4101-990a-884575734c46",
   "metadata": {},
   "outputs": [
    {
     "name": "stdout",
     "output_type": "stream",
     "text": [
      "First variable is 36 & second variable is 6.\n",
      "Addition : 36 + 6 = 42\n",
      "Subtraction : 36 - 6 = 30\n",
      "Multiplication : 36 * 6 = 216\n",
      "Division : 36 / 6 = 6.0\n"
     ]
    }
   ],
   "source": [
    "a = 36\n",
    "b = 6\n",
    "print(f\"First variable is {a} & second variable is {b}.\")\n",
    "\n",
    "Addition = a+b\n",
    "print(f\"Addition : {a} + {b} = {Addition}\")\n",
    "\n",
    "Subtraction = a-b\n",
    "print(f\"Subtraction : {a} - {b} = {Subtraction}\")\n",
    "\n",
    "Multiplication = a*b\n",
    "print(f\"Multiplication : {a} * {b} = {Multiplication}\")\n",
    "\n",
    "Division = a/b\n",
    "print(f\"Division : {a} / {b} = {Division}\")"
   ]
  },
  {
   "cell_type": "raw",
   "id": "45eadb20-8d7e-43fe-87b6-80241e79580d",
   "metadata": {},
   "source": [
    "\n",
    "Q.2. What is the difference between the following operators:\n",
    "(i) ‘/’ & ‘//’\n",
    "(ii) ‘**’ & ‘^’\n",
    "Ans.\n",
    "*(i) ‘/’ & ‘//’\n",
    "    - '/' This is regular division. It returns a floating-point (decimal) result. Example: 36 / 5 = 7.2\n",
    "    - '//' This is floor division. It returns an integer result, rounds up to nearest whole number. Example: 36 // 5 = 7\n",
    "\n",
    "*(ii) ‘**’ & ‘^’\n",
    "    - '**' This is exponentiation operator. It raises a number to a power. Example: 2 ** 3 = 8 (2*2*2).\n",
    "    - '^' This is bitwise XOR (exclusive OR) operator. It performs a bitwise operation on two numbers.Example: 2 ^ 3: 1\n",
    "          (in binary, 2:10, 3:11, so 10^11:01)\n"
   ]
  },
  {
   "cell_type": "raw",
   "id": "73b52ecb-0fec-4cf6-9102-9a21b30feb43",
   "metadata": {},
   "source": [
    "\n",
    "Q.3. List the logical operators.\n",
    "Ans.\n",
    "    - and ( If both conditions are true return True, Otherwise return False)\n",
    "    - or  ( If any of two condition is true return True, Otherwise return False)\n",
    "    - not (If condition is true, return False and if condition is False, return True)"
   ]
  },
  {
   "cell_type": "code",
   "execution_count": 2,
   "id": "9dcadef8-58d7-4272-b1a7-994a107a4f1e",
   "metadata": {},
   "outputs": [
    {
     "name": "stdout",
     "output_type": "stream",
     "text": [
      "and\n",
      "x > 1 and y < 100 :  True\n",
      "x > 1 and y > 100 :  False\n",
      "x < 1 and y < 100 :  False\n",
      "x < 1 and y > 100 :  False\n",
      "or\n",
      "x > 1 or y < 100 :  True\n",
      "x > 1 or y > 100 :  True\n",
      "x < 1 or y < 100 :  True\n",
      "x < 1 or y > 100 :  False\n",
      "not\n",
      "not x > 1 :  False\n",
      "not y > 100 :  True\n"
     ]
    }
   ],
   "source": [
    "x = 6\n",
    "y = 99\n",
    "print('and')\n",
    "print('x > 1 and y < 100 : ', x > 1 and y < 100 )\n",
    "print('x > 1 and y > 100 : ', x > 1 and y > 100 )\n",
    "print('x < 1 and y < 100 : ', x < 1 and y < 100 )\n",
    "print('x < 1 and y > 100 : ', x < 1 and y > 100 )\n",
    "print('or')\n",
    "print('x > 1 or y < 100 : ', x > 1 or y < 100 )\n",
    "print('x > 1 or y > 100 : ', x > 1 or y > 100 )\n",
    "print('x < 1 or y < 100 : ', x < 1 or y < 100 )\n",
    "print('x < 1 or y > 100 : ', x < 1 or y > 100 )\n",
    "print('not')\n",
    "print('not x > 1 : ', not x > 1 )\n",
    "print('not y > 100 : ', not y > 100 )"
   ]
  },
  {
   "cell_type": "raw",
   "id": "47abca92-431b-49c5-bcce-01d8a9d0ee8b",
   "metadata": {},
   "source": [
    "\n",
    "Q.4. Explain right shift operator and left shift operator with examples.\n",
    "Ans.\n",
    "*right shift operator \n",
    "    - It is denoted by symbol >>\n",
    "    - Shifts the bits of a number to the right.\n",
    "    - Divides the number by 2^n where n is the number of positions shifted.\n",
    "*left shift operator\n",
    "    - It is denoted by symbol <<\n",
    "    - Shifts the bits of a number to the left.\n",
    "    - Divides the number by 2^n where n is the number of positions shifted."
   ]
  },
  {
   "cell_type": "code",
   "execution_count": 4,
   "id": "e8ba0670-be7d-4cc1-a6e7-ed66345c078d",
   "metadata": {},
   "outputs": [
    {
     "name": "stdout",
     "output_type": "stream",
     "text": [
      "right shift : 16 >> 1 :  8\n",
      "left shift  : 16 << 1 :  32\n"
     ]
    }
   ],
   "source": [
    "print('right shift : 16 >> 1 : ',16 >> 1 )     # binary of 16 is 10000, after R shift gives 1000 ie 8\n",
    "print('left shift  : 16 << 1 : ',16 << 1 )     # binary of 16 is 10000, after L shift gives 100000 ie 32"
   ]
  },
  {
   "cell_type": "raw",
   "id": "e0354473-2856-45e4-94b7-8f87d95053c3",
   "metadata": {},
   "source": [
    "\n",
    "Q.5. Create a list containing int type data of length 15. Then write a code to check if 10 is\n",
    "present in the list or not.\n",
    "Ans."
   ]
  },
  {
   "cell_type": "code",
   "execution_count": 5,
   "id": "9830dba6-0965-49c0-9849-a56a2620ac67",
   "metadata": {},
   "outputs": [
    {
     "name": "stdout",
     "output_type": "stream",
     "text": [
      "10 is present at position 11\n"
     ]
    }
   ],
   "source": [
    "list1 = [1,6,33,4,12,78,56,8,35,68,44,10,23,47,15]\n",
    "if 10 in list1:\n",
    "    print(f\"10 is present at position {list1.index(10)}\")"
   ]
  },
  {
   "cell_type": "raw",
   "id": "47bf9837-8b37-4a7a-b9f0-2536d95af48c",
   "metadata": {},
   "source": []
  }
 ],
 "metadata": {
  "kernelspec": {
   "display_name": "Python 3 (ipykernel)",
   "language": "python",
   "name": "python3"
  },
  "language_info": {
   "codemirror_mode": {
    "name": "ipython",
    "version": 3
   },
   "file_extension": ".py",
   "mimetype": "text/x-python",
   "name": "python",
   "nbconvert_exporter": "python",
   "pygments_lexer": "ipython3",
   "version": "3.11.7"
  }
 },
 "nbformat": 4,
 "nbformat_minor": 5
}
